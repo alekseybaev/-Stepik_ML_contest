{
 "cells": [
  {
   "cell_type": "markdown",
   "metadata": {},
   "source": [
    "# Признаки для объединенного датасета events_train.csv и events_data_test.csv"
   ]
  },
  {
   "cell_type": "markdown",
   "metadata": {},
   "source": [
    "Импортируем библиотеки и делаем некоторые настройки"
   ]
  },
  {
   "cell_type": "code",
   "execution_count": 1,
   "metadata": {},
   "outputs": [],
   "source": [
    "import pandas as pd\n",
    "import numpy as np\n",
    "import matplotlib.pyplot as plt\n",
    "import seaborn as sns"
   ]
  },
  {
   "cell_type": "code",
   "execution_count": 2,
   "metadata": {},
   "outputs": [],
   "source": [
    "from collections import Counter"
   ]
  },
  {
   "cell_type": "code",
   "execution_count": 3,
   "metadata": {},
   "outputs": [],
   "source": [
    "import warnings\n",
    "warnings.filterwarnings('ignore')"
   ]
  },
  {
   "cell_type": "code",
   "execution_count": 4,
   "metadata": {},
   "outputs": [],
   "source": [
    "%matplotlib inline\n",
    "sns.set(rc={'figure.figsize': (17, 8)})\n",
    "pd.set_option('display.max_columns', None)# вывод всех колонок фрейма"
   ]
  },
  {
   "cell_type": "markdown",
   "metadata": {},
   "source": [
    "Загружаем данные о действиях, которые совершают студенты со стэпами"
   ]
  },
  {
   "cell_type": "code",
   "execution_count": 5,
   "metadata": {},
   "outputs": [],
   "source": [
    "events = pd.read_csv('DATA\\\\events_all_two_days.zip', compression='zip')"
   ]
  },
  {
   "cell_type": "markdown",
   "metadata": {},
   "source": [
    "Сводная таблица по всем категориям из action"
   ]
  },
  {
   "cell_type": "code",
   "execution_count": 6,
   "metadata": {},
   "outputs": [],
   "source": [
    "first_data = events.pivot_table(index='user_id',\n",
    "                                columns='action',\n",
    "                                values='step_id',\n",
    "                                aggfunc='count',\n",
    "                                fill_value=0).reset_index()"
   ]
  },
  {
   "cell_type": "code",
   "execution_count": 7,
   "metadata": {},
   "outputs": [],
   "source": [
    "#уберем индекс action\n",
    "first_data.columns\n",
    "first_data.columns.name\n",
    "first_data.columns.name = None"
   ]
  },
  {
   "cell_type": "markdown",
   "metadata": {},
   "source": [
    "Переименование колонок"
   ]
  },
  {
   "cell_type": "code",
   "execution_count": 8,
   "metadata": {},
   "outputs": [],
   "source": [
    "first_data = first_data.rename(columns={'discovered': 'd_count',\n",
    "                                        'passed': 'p_count',\n",
    "                                        'started_attempt': 's_count',\n",
    "                                        'viewed': 'v_count'})"
   ]
  },
  {
   "cell_type": "markdown",
   "metadata": {},
   "source": [
    "Сводная таблица по всем категориям из action для уникальных step_id"
   ]
  },
  {
   "cell_type": "code",
   "execution_count": 9,
   "metadata": {},
   "outputs": [],
   "source": [
    "second_data = events.pivot_table(index='user_id',\n",
    "                                 columns='action',\n",
    "                                 values='step_id',\n",
    "                                 aggfunc='nunique',\n",
    "                                 fill_value=0).reset_index()"
   ]
  },
  {
   "cell_type": "code",
   "execution_count": 10,
   "metadata": {},
   "outputs": [],
   "source": [
    "#уберем индекс action\n",
    "second_data.columns\n",
    "second_data.columns.name\n",
    "second_data.columns.name = None"
   ]
  },
  {
   "cell_type": "code",
   "execution_count": 11,
   "metadata": {},
   "outputs": [],
   "source": [
    "second_data = second_data.rename(columns={'discovered': 'd_uniq',\n",
    "                                          'passed': 'p_uniq',\n",
    "                                          'started_attempt': 's_uniq',\n",
    "                                          'viewed': 'v_uniq'})"
   ]
  },
  {
   "cell_type": "markdown",
   "metadata": {},
   "source": [
    "Соединяем  активности уникальные и нет"
   ]
  },
  {
   "cell_type": "code",
   "execution_count": 12,
   "metadata": {},
   "outputs": [],
   "source": [
    "first_data = first_data.merge(second_data, on='user_id', how='inner')"
   ]
  },
  {
   "cell_type": "markdown",
   "metadata": {},
   "source": [
    "Добавим новые признаки"
   ]
  },
  {
   "cell_type": "code",
   "execution_count": 13,
   "metadata": {},
   "outputs": [],
   "source": [
    "first_data['s_diff'] = first_data.s_count - first_data.s_uniq\n",
    "first_data['v_diff'] = first_data.v_count - first_data.v_uniq\n",
    "first_data['s_div'] = (first_data.s_count / first_data.s_uniq)\n",
    "first_data['v_div'] = (first_data.v_count / first_data.v_uniq)"
   ]
  },
  {
   "cell_type": "code",
   "execution_count": 14,
   "metadata": {},
   "outputs": [],
   "source": [
    "first_data = first_data.fillna(1)# Заполним пропуски на 1"
   ]
  },
  {
   "cell_type": "markdown",
   "metadata": {},
   "source": [
    "Удалим повторяющиеся колонки"
   ]
  },
  {
   "cell_type": "code",
   "execution_count": 15,
   "metadata": {},
   "outputs": [],
   "source": [
    "first_data = first_data.drop(['d_uniq', 'p_uniq'], axis=1)"
   ]
  },
  {
   "cell_type": "markdown",
   "metadata": {},
   "source": [
    "Сделаем выборку всех step_id для каждого пользователя"
   ]
  },
  {
   "cell_type": "code",
   "execution_count": 16,
   "metadata": {},
   "outputs": [],
   "source": [
    "user_steps = events.groupby('user_id').step_id.unique().to_frame() \\\n",
    "                   .reset_index().rename(columns={'step_id': 'steps_list'})"
   ]
  },
  {
   "cell_type": "code",
   "execution_count": 17,
   "metadata": {},
   "outputs": [],
   "source": [
    "del events"
   ]
  },
  {
   "cell_type": "markdown",
   "metadata": {},
   "source": [
    "Признак отношение суммы step_id к сумме step_id если-бы учашийся проходил их в \"идеальном\" порядке"
   ]
  },
  {
   "cell_type": "code",
   "execution_count": 18,
   "metadata": {},
   "outputs": [],
   "source": [
    "# \"идеальный\" порядок step_id\n",
    "ideal_steps = pd.read_csv('DATA\\\\ideal_steps_events_all.csv')"
   ]
  },
  {
   "cell_type": "code",
   "execution_count": 19,
   "metadata": {},
   "outputs": [],
   "source": [
    "# сумма степов пользователя, дальше заполнил в цикле\n",
    "user_steps['steps_sum'] = np.nan"
   ]
  },
  {
   "cell_type": "code",
   "execution_count": 20,
   "metadata": {},
   "outputs": [],
   "source": [
    "for i in range(len(user_steps)):\n",
    "    user_steps['steps_sum'][i] = sum(user_steps.steps_list[i])"
   ]
  },
  {
   "cell_type": "code",
   "execution_count": 21,
   "metadata": {},
   "outputs": [],
   "source": [
    "# сумма степов \"идеального\" порядка, дальше заполнение\n",
    "user_steps['ideal_steps_sum'] = np.nan"
   ]
  },
  {
   "cell_type": "code",
   "execution_count": 22,
   "metadata": {},
   "outputs": [],
   "source": [
    " for i in range(len(user_steps)):\n",
    "    s = 0\n",
    "    for j in range(len(user_steps.steps_list[i])):\n",
    "         s = s + ideal_steps.step_id[j]\n",
    "    user_steps['ideal_steps_sum'][i] = s"
   ]
  },
  {
   "cell_type": "code",
   "execution_count": 23,
   "metadata": {},
   "outputs": [],
   "source": [
    "# признак\n",
    "user_steps['steps_ratio'] = user_steps.steps_sum/user_steps.ideal_steps_sum"
   ]
  },
  {
   "cell_type": "code",
   "execution_count": 24,
   "metadata": {},
   "outputs": [
    {
     "data": {
      "text/plain": [
       "(0.7640348288318888, 4.8280664330336736)"
      ]
     },
     "execution_count": 24,
     "metadata": {},
     "output_type": "execute_result"
    }
   ],
   "source": [
    "user_steps.steps_ratio.min(), user_steps.steps_ratio.max()"
   ]
  },
  {
   "cell_type": "markdown",
   "metadata": {},
   "source": [
    "Хитрый признак на основе степов. Загрузим его из файла, чтобы не пересчитывать"
   ]
  },
  {
   "cell_type": "code",
   "execution_count": 25,
   "metadata": {},
   "outputs": [],
   "source": [
    "#user_steps['sum_diff'] = np.nan"
   ]
  },
  {
   "cell_type": "code",
   "execution_count": 26,
   "metadata": {
    "scrolled": true
   },
   "outputs": [],
   "source": [
    "#for i in range(len(user_steps)):# длится более 5 часов!\n",
    "    #s = 0\n",
    "    #p = 0\n",
    "    #for j in range(len(user_steps.steps_list[i])):\n",
    "        #for k in range(len(ideal_steps)):\n",
    "            #if user_steps.steps_list[i][j] / ideal_steps.step_id[k] == 1:\n",
    "                #s = s + abs(k - j) - p\n",
    "                #p = s\n",
    "    #user_steps['sum_diff'][i] = s\n",
    "           \n",
    "#user_steps.head(10)"
   ]
  },
  {
   "cell_type": "code",
   "execution_count": 27,
   "metadata": {},
   "outputs": [],
   "source": [
    "# лучше не трогать, чтобы не ждать 5 часов!\n",
    "#user_steps.to_csv('DATA\\\\feature_steps_events.zip', index=False,  compression='zip')"
   ]
  },
  {
   "cell_type": "code",
   "execution_count": 28,
   "metadata": {},
   "outputs": [],
   "source": [
    "#загрузка сохраненного ранее признака\n",
    "user_steps=pd.read_csv('DATA\\\\feature_steps_events.zip',compression='zip')"
   ]
  },
  {
   "cell_type": "code",
   "execution_count": 29,
   "metadata": {},
   "outputs": [],
   "source": [
    "#удаляем ненужное\n",
    "user_steps = user_steps.drop(['steps_list',\n",
    "                              'steps_sum',\n",
    "                              'ideal_steps_sum'], axis=1)"
   ]
  },
  {
   "cell_type": "markdown",
   "metadata": {},
   "source": [
    "Добавляем признаки в общую таблицу"
   ]
  },
  {
   "cell_type": "code",
   "execution_count": 30,
   "metadata": {},
   "outputs": [],
   "source": [
    "first_data = first_data.merge(user_steps, on='user_id', how='inner')"
   ]
  },
  {
   "cell_type": "markdown",
   "metadata": {},
   "source": [
    "Загрузим признаки, основанные на распределении активности пользователей по времени суток"
   ]
  },
  {
   "cell_type": "code",
   "execution_count": 31,
   "metadata": {},
   "outputs": [],
   "source": [
    "times_feature = pd.read_csv('DATA\\\\times_feature_events_all_NEW.csv')"
   ]
  },
  {
   "cell_type": "code",
   "execution_count": 32,
   "metadata": {},
   "outputs": [],
   "source": [
    "first_data = first_data.merge(times_feature, on='user_id', how='inner')"
   ]
  },
  {
   "cell_type": "markdown",
   "metadata": {},
   "source": [
    "Далее еще признаки:  \n",
    "* количество пользователей с одинаковыми значениями p_count -  p_freq,  \n",
    "* их отношение к количеству всех пользователей - p_density,  \n",
    "* произведение колонок - p_count * steps_ratio,  \n",
    "* отношение частот текущей к следующей на графике - p_freq[i] / p_freq[i+1],  \n",
    "* признак относительных частот с весами - (p_freq[i]/p_freq[i+1]) * (p_count*steps_ratio)"
   ]
  },
  {
   "cell_type": "code",
   "execution_count": 33,
   "metadata": {},
   "outputs": [],
   "source": [
    "p_dict = Counter(first_data.p_count)# словарик частот"
   ]
  },
  {
   "cell_type": "code",
   "execution_count": 34,
   "metadata": {},
   "outputs": [
    {
     "data": {
      "text/plain": [
       "<matplotlib.axes._subplots.AxesSubplot at 0x134e62b0>"
      ]
     },
     "execution_count": 34,
     "metadata": {},
     "output_type": "execute_result"
    },
    {
     "data": {
      "image/png": "[encoded data removed]",
      "text/plain": [
       "<Figure size 1224x576 with 1 Axes>"
      ]
     },
     "metadata": {},
     "output_type": "display_data"
    }
   ],
   "source": [
    "first_data.p_count.plot.hist(bins=198)# посмотрим на распрделение p_count"
   ]
  },
  {
   "cell_type": "code",
   "execution_count": 35,
   "metadata": {},
   "outputs": [],
   "source": [
    "first_data['p_freq'] = np.nan# создаем новые колонки\n",
    "first_data['p_density'] = np.nan"
   ]
  },
  {
   "cell_type": "code",
   "execution_count": 36,
   "metadata": {},
   "outputs": [],
   "source": [
    "# частоты и плотности для значений столбца p_count\n",
    "for i in range(len(first_data)):\n",
    "    first_data['p_freq'][i] = p_dict.get(first_data.p_count[i])\n",
    "    first_data['p_density'][i] = p_dict.get(first_data.p_count[i]) / 25418"
   ]
  },
  {
   "cell_type": "code",
   "execution_count": 37,
   "metadata": {},
   "outputs": [],
   "source": [
    "# произведение признаков тоже признак\n",
    "first_data['p_count*steps_ratio']=first_data.p_count*first_data.steps_ratio"
   ]
  },
  {
   "cell_type": "code",
   "execution_count": 38,
   "metadata": {},
   "outputs": [],
   "source": [
    "# создаем вспомогательный столбец\n",
    "first_data['p_freq[i+1]'] = np.nan"
   ]
  },
  {
   "cell_type": "code",
   "execution_count": 39,
   "metadata": {},
   "outputs": [],
   "source": [
    "# и заполняем его\n",
    "for i in range(len(first_data)):\n",
    "    first_data['p_freq[i+1]'][i] = p_dict.get((first_data.p_count[i] + 1))"
   ]
  },
  {
   "cell_type": "code",
   "execution_count": 40,
   "metadata": {},
   "outputs": [],
   "source": [
    "# признак - отношение частот текущей к следующей на графике\n",
    "first_data['p_freq[i]/p_freq[i+1]'] = first_data['p_freq'] / first_data['p_freq[i+1]']"
   ]
  },
  {
   "cell_type": "code",
   "execution_count": 41,
   "metadata": {},
   "outputs": [],
   "source": [
    "# теперь удалим вспомогательный столбец\n",
    "first_data = first_data.drop(['p_freq[i+1]'], axis=1)"
   ]
  },
  {
   "cell_type": "code",
   "execution_count": 42,
   "metadata": {},
   "outputs": [],
   "source": [
    "# посмотрим на строки, содержащих null\n",
    "#first_data[first_data.isnull().any(axis=1)]"
   ]
  },
  {
   "cell_type": "code",
   "execution_count": 43,
   "metadata": {},
   "outputs": [],
   "source": [
    "# пропуски заменим на 1 для редких частот\n",
    "first_data = first_data.fillna(1)"
   ]
  },
  {
   "cell_type": "code",
   "execution_count": 44,
   "metadata": {},
   "outputs": [],
   "source": [
    "# наконец, признак относительных частот с весами\n",
    "first_data['(p_freq[i]/p_freq[i+1])*(p_count*steps_ratio)'] = first_data['p_freq[i]/p_freq[i+1]'] * first_data['p_count*steps_ratio']"
   ]
  },
  {
   "cell_type": "markdown",
   "metadata": {},
   "source": [
    "Сохраним результаты в файл:"
   ]
  },
  {
   "cell_type": "code",
   "execution_count": 45,
   "metadata": {},
   "outputs": [],
   "source": [
    "first_data.to_csv('DATA\\\\feature_data_events_22.zip', index=False,  compression='zip')"
   ]
  },
  {
   "cell_type": "code",
   "execution_count": 46,
   "metadata": {},
   "outputs": [
    {
     "data": {
      "text/html": [
       "<div>\n",
       "<style scoped>\n",
       "    .dataframe tbody tr th:only-of-type {\n",
       "        vertical-align: middle;\n",
       "    }\n",
       "\n",
       "    .dataframe tbody tr th {\n",
       "        vertical-align: top;\n",
       "    }\n",
       "\n",
       "    .dataframe thead th {\n",
       "        text-align: right;\n",
       "    }\n",
       "</style>\n",
       "<table border=\"1\" class=\"dataframe\">\n",
       "  <thead>\n",
       "    <tr style=\"text-align: right;\">\n",
       "      <th></th>\n",
       "      <th>user_id</th>\n",
       "      <th>d_count</th>\n",
       "      <th>p_count</th>\n",
       "      <th>s_count</th>\n",
       "      <th>v_count</th>\n",
       "      <th>s_uniq</th>\n",
       "      <th>v_uniq</th>\n",
       "      <th>s_diff</th>\n",
       "      <th>v_diff</th>\n",
       "      <th>s_div</th>\n",
       "      <th>v_div</th>\n",
       "      <th>steps_ratio</th>\n",
       "      <th>sum_diff</th>\n",
       "      <th>steps_day</th>\n",
       "      <th>steps_night</th>\n",
       "      <th>day_ratio</th>\n",
       "      <th>hours_sum</th>\n",
       "      <th>hours_ratio</th>\n",
       "      <th>p_freq</th>\n",
       "      <th>p_density</th>\n",
       "      <th>p_count*steps_ratio</th>\n",
       "      <th>p_freq[i]/p_freq[i+1]</th>\n",
       "      <th>(p_freq[i]/p_freq[i+1])*(p_count*steps_ratio)</th>\n",
       "    </tr>\n",
       "  </thead>\n",
       "  <tbody>\n",
       "    <tr>\n",
       "      <th>0</th>\n",
       "      <td>1</td>\n",
       "      <td>1</td>\n",
       "      <td>0</td>\n",
       "      <td>0</td>\n",
       "      <td>1</td>\n",
       "      <td>0</td>\n",
       "      <td>1</td>\n",
       "      <td>0</td>\n",
       "      <td>0</td>\n",
       "      <td>1.0</td>\n",
       "      <td>1.000000</td>\n",
       "      <td>0.974585</td>\n",
       "      <td>53.0</td>\n",
       "      <td>2.0</td>\n",
       "      <td>0.0</td>\n",
       "      <td>1.0</td>\n",
       "      <td>1</td>\n",
       "      <td>0.020408</td>\n",
       "      <td>2640.0</td>\n",
       "      <td>0.103863</td>\n",
       "      <td>0.000000</td>\n",
       "      <td>0.350365</td>\n",
       "      <td>0.000000</td>\n",
       "    </tr>\n",
       "    <tr>\n",
       "      <th>1</th>\n",
       "      <td>2</td>\n",
       "      <td>9</td>\n",
       "      <td>9</td>\n",
       "      <td>2</td>\n",
       "      <td>9</td>\n",
       "      <td>2</td>\n",
       "      <td>9</td>\n",
       "      <td>0</td>\n",
       "      <td>0</td>\n",
       "      <td>1.0</td>\n",
       "      <td>1.000000</td>\n",
       "      <td>1.000000</td>\n",
       "      <td>0.0</td>\n",
       "      <td>31.0</td>\n",
       "      <td>0.0</td>\n",
       "      <td>1.0</td>\n",
       "      <td>1</td>\n",
       "      <td>0.020408</td>\n",
       "      <td>1154.0</td>\n",
       "      <td>0.045401</td>\n",
       "      <td>9.000000</td>\n",
       "      <td>0.942810</td>\n",
       "      <td>8.485294</td>\n",
       "    </tr>\n",
       "    <tr>\n",
       "      <th>2</th>\n",
       "      <td>3</td>\n",
       "      <td>15</td>\n",
       "      <td>15</td>\n",
       "      <td>4</td>\n",
       "      <td>20</td>\n",
       "      <td>4</td>\n",
       "      <td>15</td>\n",
       "      <td>0</td>\n",
       "      <td>5</td>\n",
       "      <td>1.0</td>\n",
       "      <td>1.333333</td>\n",
       "      <td>0.846088</td>\n",
       "      <td>1.0</td>\n",
       "      <td>62.0</td>\n",
       "      <td>0.0</td>\n",
       "      <td>1.0</td>\n",
       "      <td>2</td>\n",
       "      <td>0.040816</td>\n",
       "      <td>198.0</td>\n",
       "      <td>0.007790</td>\n",
       "      <td>12.691324</td>\n",
       "      <td>0.717391</td>\n",
       "      <td>9.104645</td>\n",
       "    </tr>\n",
       "    <tr>\n",
       "      <th>3</th>\n",
       "      <td>4</td>\n",
       "      <td>1</td>\n",
       "      <td>1</td>\n",
       "      <td>0</td>\n",
       "      <td>1</td>\n",
       "      <td>0</td>\n",
       "      <td>1</td>\n",
       "      <td>0</td>\n",
       "      <td>0</td>\n",
       "      <td>1.0</td>\n",
       "      <td>1.000000</td>\n",
       "      <td>1.000000</td>\n",
       "      <td>0.0</td>\n",
       "      <td>3.0</td>\n",
       "      <td>0.0</td>\n",
       "      <td>1.0</td>\n",
       "      <td>1</td>\n",
       "      <td>0.020408</td>\n",
       "      <td>7535.0</td>\n",
       "      <td>0.296443</td>\n",
       "      <td>1.000000</td>\n",
       "      <td>4.836329</td>\n",
       "      <td>4.836329</td>\n",
       "    </tr>\n",
       "    <tr>\n",
       "      <th>4</th>\n",
       "      <td>5</td>\n",
       "      <td>1</td>\n",
       "      <td>1</td>\n",
       "      <td>0</td>\n",
       "      <td>1</td>\n",
       "      <td>0</td>\n",
       "      <td>1</td>\n",
       "      <td>0</td>\n",
       "      <td>0</td>\n",
       "      <td>1.0</td>\n",
       "      <td>1.000000</td>\n",
       "      <td>0.980984</td>\n",
       "      <td>9.0</td>\n",
       "      <td>7.0</td>\n",
       "      <td>0.0</td>\n",
       "      <td>1.0</td>\n",
       "      <td>2</td>\n",
       "      <td>0.040816</td>\n",
       "      <td>7535.0</td>\n",
       "      <td>0.296443</td>\n",
       "      <td>0.980984</td>\n",
       "      <td>4.836329</td>\n",
       "      <td>4.744362</td>\n",
       "    </tr>\n",
       "    <tr>\n",
       "      <th>...</th>\n",
       "      <td>...</td>\n",
       "      <td>...</td>\n",
       "      <td>...</td>\n",
       "      <td>...</td>\n",
       "      <td>...</td>\n",
       "      <td>...</td>\n",
       "      <td>...</td>\n",
       "      <td>...</td>\n",
       "      <td>...</td>\n",
       "      <td>...</td>\n",
       "      <td>...</td>\n",
       "      <td>...</td>\n",
       "      <td>...</td>\n",
       "      <td>...</td>\n",
       "      <td>...</td>\n",
       "      <td>...</td>\n",
       "      <td>...</td>\n",
       "      <td>...</td>\n",
       "      <td>...</td>\n",
       "      <td>...</td>\n",
       "      <td>...</td>\n",
       "      <td>...</td>\n",
       "      <td>...</td>\n",
       "    </tr>\n",
       "    <tr>\n",
       "      <th>25413</th>\n",
       "      <td>26796</td>\n",
       "      <td>6</td>\n",
       "      <td>4</td>\n",
       "      <td>2</td>\n",
       "      <td>12</td>\n",
       "      <td>2</td>\n",
       "      <td>6</td>\n",
       "      <td>0</td>\n",
       "      <td>6</td>\n",
       "      <td>1.0</td>\n",
       "      <td>2.000000</td>\n",
       "      <td>1.000000</td>\n",
       "      <td>0.0</td>\n",
       "      <td>29.0</td>\n",
       "      <td>0.0</td>\n",
       "      <td>1.0</td>\n",
       "      <td>2</td>\n",
       "      <td>0.040816</td>\n",
       "      <td>762.0</td>\n",
       "      <td>0.029979</td>\n",
       "      <td>4.000000</td>\n",
       "      <td>2.295181</td>\n",
       "      <td>9.180723</td>\n",
       "    </tr>\n",
       "    <tr>\n",
       "      <th>25414</th>\n",
       "      <td>26797</td>\n",
       "      <td>10</td>\n",
       "      <td>10</td>\n",
       "      <td>2</td>\n",
       "      <td>10</td>\n",
       "      <td>2</td>\n",
       "      <td>10</td>\n",
       "      <td>0</td>\n",
       "      <td>0</td>\n",
       "      <td>1.0</td>\n",
       "      <td>1.000000</td>\n",
       "      <td>1.000000</td>\n",
       "      <td>0.0</td>\n",
       "      <td>34.0</td>\n",
       "      <td>0.0</td>\n",
       "      <td>1.0</td>\n",
       "      <td>1</td>\n",
       "      <td>0.020408</td>\n",
       "      <td>1224.0</td>\n",
       "      <td>0.048155</td>\n",
       "      <td>10.000000</td>\n",
       "      <td>1.924528</td>\n",
       "      <td>19.245283</td>\n",
       "    </tr>\n",
       "    <tr>\n",
       "      <th>25415</th>\n",
       "      <td>26798</td>\n",
       "      <td>12</td>\n",
       "      <td>12</td>\n",
       "      <td>3</td>\n",
       "      <td>12</td>\n",
       "      <td>2</td>\n",
       "      <td>12</td>\n",
       "      <td>1</td>\n",
       "      <td>0</td>\n",
       "      <td>1.5</td>\n",
       "      <td>1.000000</td>\n",
       "      <td>1.000000</td>\n",
       "      <td>0.0</td>\n",
       "      <td>0.0</td>\n",
       "      <td>42.0</td>\n",
       "      <td>0.0</td>\n",
       "      <td>2</td>\n",
       "      <td>0.040816</td>\n",
       "      <td>586.0</td>\n",
       "      <td>0.023055</td>\n",
       "      <td>12.000000</td>\n",
       "      <td>2.325397</td>\n",
       "      <td>27.904762</td>\n",
       "    </tr>\n",
       "    <tr>\n",
       "      <th>25416</th>\n",
       "      <td>26799</td>\n",
       "      <td>6</td>\n",
       "      <td>6</td>\n",
       "      <td>2</td>\n",
       "      <td>6</td>\n",
       "      <td>2</td>\n",
       "      <td>6</td>\n",
       "      <td>0</td>\n",
       "      <td>0</td>\n",
       "      <td>1.0</td>\n",
       "      <td>1.000000</td>\n",
       "      <td>1.000000</td>\n",
       "      <td>0.0</td>\n",
       "      <td>22.0</td>\n",
       "      <td>0.0</td>\n",
       "      <td>1.0</td>\n",
       "      <td>2</td>\n",
       "      <td>0.040816</td>\n",
       "      <td>757.0</td>\n",
       "      <td>0.029782</td>\n",
       "      <td>6.000000</td>\n",
       "      <td>2.514950</td>\n",
       "      <td>15.089701</td>\n",
       "    </tr>\n",
       "    <tr>\n",
       "      <th>25417</th>\n",
       "      <td>26800</td>\n",
       "      <td>1</td>\n",
       "      <td>0</td>\n",
       "      <td>1</td>\n",
       "      <td>1</td>\n",
       "      <td>1</td>\n",
       "      <td>1</td>\n",
       "      <td>0</td>\n",
       "      <td>0</td>\n",
       "      <td>1.0</td>\n",
       "      <td>1.000000</td>\n",
       "      <td>0.974646</td>\n",
       "      <td>47.0</td>\n",
       "      <td>3.0</td>\n",
       "      <td>0.0</td>\n",
       "      <td>1.0</td>\n",
       "      <td>1</td>\n",
       "      <td>0.020408</td>\n",
       "      <td>2640.0</td>\n",
       "      <td>0.103863</td>\n",
       "      <td>0.000000</td>\n",
       "      <td>0.350365</td>\n",
       "      <td>0.000000</td>\n",
       "    </tr>\n",
       "  </tbody>\n",
       "</table>\n",
       "<p>25418 rows × 23 columns</p>\n",
       "</div>"
      ],
      "text/plain": [
       "       user_id  d_count  p_count  s_count  v_count  s_uniq  v_uniq  s_diff  \\\n",
       "0            1        1        0        0        1       0       1       0   \n",
       "1            2        9        9        2        9       2       9       0   \n",
       "2            3       15       15        4       20       4      15       0   \n",
       "3            4        1        1        0        1       0       1       0   \n",
       "4            5        1        1        0        1       0       1       0   \n",
       "...        ...      ...      ...      ...      ...     ...     ...     ...   \n",
       "25413    26796        6        4        2       12       2       6       0   \n",
       "25414    26797       10       10        2       10       2      10       0   \n",
       "25415    26798       12       12        3       12       2      12       1   \n",
       "25416    26799        6        6        2        6       2       6       0   \n",
       "25417    26800        1        0        1        1       1       1       0   \n",
       "\n",
       "       v_diff  s_div     v_div  steps_ratio  sum_diff  steps_day  steps_night  \\\n",
       "0           0    1.0  1.000000     0.974585      53.0        2.0          0.0   \n",
       "1           0    1.0  1.000000     1.000000       0.0       31.0          0.0   \n",
       "2           5    1.0  1.333333     0.846088       1.0       62.0          0.0   \n",
       "3           0    1.0  1.000000     1.000000       0.0        3.0          0.0   \n",
       "4           0    1.0  1.000000     0.980984       9.0        7.0          0.0   \n",
       "...       ...    ...       ...          ...       ...        ...          ...   \n",
       "25413       6    1.0  2.000000     1.000000       0.0       29.0          0.0   \n",
       "25414       0    1.0  1.000000     1.000000       0.0       34.0          0.0   \n",
       "25415       0    1.5  1.000000     1.000000       0.0        0.0         42.0   \n",
       "25416       0    1.0  1.000000     1.000000       0.0       22.0          0.0   \n",
       "25417       0    1.0  1.000000     0.974646      47.0        3.0          0.0   \n",
       "\n",
       "       day_ratio  hours_sum  hours_ratio  p_freq  p_density  \\\n",
       "0            1.0          1     0.020408  2640.0   0.103863   \n",
       "1            1.0          1     0.020408  1154.0   0.045401   \n",
       "2            1.0          2     0.040816   198.0   0.007790   \n",
       "3            1.0          1     0.020408  7535.0   0.296443   \n",
       "4            1.0          2     0.040816  7535.0   0.296443   \n",
       "...          ...        ...          ...     ...        ...   \n",
       "25413        1.0          2     0.040816   762.0   0.029979   \n",
       "25414        1.0          1     0.020408  1224.0   0.048155   \n",
       "25415        0.0          2     0.040816   586.0   0.023055   \n",
       "25416        1.0          2     0.040816   757.0   0.029782   \n",
       "25417        1.0          1     0.020408  2640.0   0.103863   \n",
       "\n",
       "       p_count*steps_ratio  p_freq[i]/p_freq[i+1]  \\\n",
       "0                 0.000000               0.350365   \n",
       "1                 9.000000               0.942810   \n",
       "2                12.691324               0.717391   \n",
       "3                 1.000000               4.836329   \n",
       "4                 0.980984               4.836329   \n",
       "...                    ...                    ...   \n",
       "25413             4.000000               2.295181   \n",
       "25414            10.000000               1.924528   \n",
       "25415            12.000000               2.325397   \n",
       "25416             6.000000               2.514950   \n",
       "25417             0.000000               0.350365   \n",
       "\n",
       "       (p_freq[i]/p_freq[i+1])*(p_count*steps_ratio)  \n",
       "0                                           0.000000  \n",
       "1                                           8.485294  \n",
       "2                                           9.104645  \n",
       "3                                           4.836329  \n",
       "4                                           4.744362  \n",
       "...                                              ...  \n",
       "25413                                       9.180723  \n",
       "25414                                      19.245283  \n",
       "25415                                      27.904762  \n",
       "25416                                      15.089701  \n",
       "25417                                       0.000000  \n",
       "\n",
       "[25418 rows x 23 columns]"
      ]
     },
     "metadata": {},
     "output_type": "display_data"
    }
   ],
   "source": [
    "display(first_data)"
   ]
  },
  {
   "cell_type": "code",
   "execution_count": 47,
   "metadata": {},
   "outputs": [
    {
     "name": "stdout",
     "output_type": "stream",
     "text": [
      "<class 'pandas.core.frame.DataFrame'>\n",
      "Int64Index: 25418 entries, 0 to 25417\n",
      "Data columns (total 23 columns):\n",
      " #   Column                                         Non-Null Count  Dtype  \n",
      "---  ------                                         --------------  -----  \n",
      " 0   user_id                                        25418 non-null  int64  \n",
      " 1   d_count                                        25418 non-null  int64  \n",
      " 2   p_count                                        25418 non-null  int64  \n",
      " 3   s_count                                        25418 non-null  int64  \n",
      " 4   v_count                                        25418 non-null  int64  \n",
      " 5   s_uniq                                         25418 non-null  int64  \n",
      " 6   v_uniq                                         25418 non-null  int64  \n",
      " 7   s_diff                                         25418 non-null  int64  \n",
      " 8   v_diff                                         25418 non-null  int64  \n",
      " 9   s_div                                          25418 non-null  float64\n",
      " 10  v_div                                          25418 non-null  float64\n",
      " 11  steps_ratio                                    25418 non-null  float64\n",
      " 12  sum_diff                                       25418 non-null  float64\n",
      " 13  steps_day                                      25418 non-null  float64\n",
      " 14  steps_night                                    25418 non-null  float64\n",
      " 15  day_ratio                                      25418 non-null  float64\n",
      " 16  hours_sum                                      25418 non-null  int64  \n",
      " 17  hours_ratio                                    25418 non-null  float64\n",
      " 18  p_freq                                         25418 non-null  float64\n",
      " 19  p_density                                      25418 non-null  float64\n",
      " 20  p_count*steps_ratio                            25418 non-null  float64\n",
      " 21  p_freq[i]/p_freq[i+1]                          25418 non-null  float64\n",
      " 22  (p_freq[i]/p_freq[i+1])*(p_count*steps_ratio)  25418 non-null  float64\n",
      "dtypes: float64(13), int64(10)\n",
      "memory usage: 5.7 MB\n"
     ]
    }
   ],
   "source": [
    "first_data.info()"
   ]
  },
  {
   "cell_type": "code",
   "execution_count": null,
   "metadata": {},
   "outputs": [],
   "source": []
  }
 ],
 "metadata": {
  "kernelspec": {
   "display_name": "Python 3",
   "language": "python",
   "name": "python3"
  },
  "language_info": {
   "codemirror_mode": {
    "name": "ipython",
    "version": 3
   },
   "file_extension": ".py",
   "mimetype": "text/x-python",
   "name": "python",
   "nbconvert_exporter": "python",
   "pygments_lexer": "ipython3",
   "version": "3.7.6"
  }
 },
 "nbformat": 4,
 "nbformat_minor": 4
}
