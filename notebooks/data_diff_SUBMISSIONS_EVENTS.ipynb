{
 "cells": [
  {
   "cell_type": "markdown",
   "metadata": {},
   "source": [
    "# Признаки разности дат между данными events и submissions"
   ]
  },
  {
   "cell_type": "markdown",
   "metadata": {},
   "source": [
    "Импортируем библиотеки и делаем некоторые настройки"
   ]
  },
  {
   "cell_type": "code",
   "execution_count": 1,
   "metadata": {},
   "outputs": [],
   "source": [
    "import pandas as pd\n",
    "import numpy as np\n",
    "import matplotlib.pyplot as plt\n",
    "import seaborn as sns\n",
    "%matplotlib inline"
   ]
  },
  {
   "cell_type": "code",
   "execution_count": 2,
   "metadata": {},
   "outputs": [],
   "source": [
    "#import datetime\n",
    "from datetime import datetime, date\n",
    "from collections import Counter"
   ]
  },
  {
   "cell_type": "code",
   "execution_count": 3,
   "metadata": {},
   "outputs": [],
   "source": [
    "sns.set(rc={'figure.figsize': (20, 10)})"
   ]
  },
  {
   "cell_type": "code",
   "execution_count": 4,
   "metadata": {},
   "outputs": [],
   "source": [
    "import warnings\n",
    "warnings.filterwarnings('ignore')"
   ]
  },
  {
   "cell_type": "markdown",
   "metadata": {},
   "source": [
    "Загружаем таблицы календарных дат"
   ]
  },
  {
   "cell_type": "code",
   "execution_count": 5,
   "metadata": {},
   "outputs": [],
   "source": [
    "# даты для events_train.csv и events_data_test.csv\n",
    "events_dates = pd.read_csv('DATA\\events_dates.csv')"
   ]
  },
  {
   "cell_type": "code",
   "execution_count": 6,
   "metadata": {},
   "outputs": [],
   "source": [
    "#переименуем некоторые столбцы\n",
    "events_dates = events_dates.rename(columns={'date_1':'Edate_1',\n",
    "                                            'date_2':'Edate_2',\n",
    "                                            'date_3':'Edate_3'})   "
   ]
  },
  {
   "cell_type": "code",
   "execution_count": 7,
   "metadata": {},
   "outputs": [],
   "source": [
    "# даты для submissions_train.csv и submission_data_test.csv\n",
    "submissions_dates = pd.read_csv('DATA\\\\submissions_dates.csv')"
   ]
  },
  {
   "cell_type": "code",
   "execution_count": 8,
   "metadata": {},
   "outputs": [],
   "source": [
    "#переименуем столбцы\n",
    "submissions_dates = submissions_dates.rename(columns={'date_1':'Sdate_1',\n",
    "                                                      'date_2':'Sdate_2',\n",
    "                                                      'date_3':'Sdate_3'}) "
   ]
  },
  {
   "cell_type": "markdown",
   "metadata": {},
   "source": [
    "Соединим таблицы, сделаем преобразование"
   ]
  },
  {
   "cell_type": "code",
   "execution_count": 9,
   "metadata": {},
   "outputs": [],
   "source": [
    "events_dates=events_dates.merge(submissions_dates,on='user_id',how='outer')"
   ]
  },
  {
   "cell_type": "code",
   "execution_count": 10,
   "metadata": {},
   "outputs": [],
   "source": [
    "#заполним все пропуски фиксированной датой\n",
    "events_dates = events_dates.fillna('2030-01-01') "
   ]
  },
  {
   "cell_type": "code",
   "execution_count": 11,
   "metadata": {},
   "outputs": [],
   "source": [
    "#преобразуем даты в формат datatime\n",
    "f = lambda x: datetime.strptime(x, '%Y-%m-%d')\n",
    "events_dates.Edate_1 = events_dates.Edate_1.apply(f)\n",
    "events_dates.Edate_2 = events_dates.Edate_2.apply(f)\n",
    "events_dates.Edate_3 = events_dates.Edate_3.apply(f)\n",
    "events_dates.Sdate_1 = events_dates.Sdate_1.apply(f) \n",
    "events_dates.Sdate_2 = events_dates.Sdate_2.apply(f)\n",
    "events_dates.Sdate_3 = events_dates.Sdate_3.apply(f)"
   ]
  },
  {
   "cell_type": "markdown",
   "metadata": {},
   "source": [
    "Расчитаем разности дат"
   ]
  },
  {
   "cell_type": "code",
   "execution_count": 12,
   "metadata": {},
   "outputs": [],
   "source": [
    "events_dates['delta_1'] = abs(events_dates.Edate_1 - events_dates.Sdate_1)\n",
    "events_dates['delta_2'] = abs(events_dates.Edate_2 - events_dates.Sdate_2)\n",
    "events_dates['delta_3'] = abs(events_dates.Edate_3 - events_dates.Sdate_3)"
   ]
  },
  {
   "cell_type": "code",
   "execution_count": 13,
   "metadata": {},
   "outputs": [],
   "source": [
    "# оставим только число\n",
    "events_dates.delta_1 = events_dates.delta_1.apply(lambda x: x.days)\n",
    "events_dates.delta_2 = events_dates.delta_2.apply(lambda x: x.days)\n",
    "events_dates.delta_3 = events_dates.delta_3.apply(lambda x: x.days)"
   ]
  },
  {
   "cell_type": "code",
   "execution_count": 14,
   "metadata": {},
   "outputs": [
    {
     "data": {
      "text/plain": [
       "<matplotlib.axes._subplots.AxesSubplot at 0x8f5d590>"
      ]
     },
     "execution_count": 14,
     "metadata": {},
     "output_type": "execute_result"
    },
    {
     "data": {
      "image/png": "[encoded data removed]",
      "text/plain": [
       "<Figure size 1440x720 with 1 Axes>"
      ]
     },
     "metadata": {},
     "output_type": "display_data"
    }
   ],
   "source": [
    "#построим распределение разностей дат\n",
    "events_dates.delta_1[events_dates['delta_1'] < 100].plot.hist(bins=100)"
   ]
  },
  {
   "cell_type": "code",
   "execution_count": 15,
   "metadata": {},
   "outputs": [],
   "source": [
    "# заполним все, что больше 90 дней на Nan\n",
    "events_dates.delta_1[events_dates.delta_1 >= 90] = np.nan\n",
    "events_dates.delta_2[events_dates.delta_2 >= 90] = np.nan\n",
    "events_dates.delta_3[events_dates.delta_3 >= 90] = np.nan"
   ]
  },
  {
   "cell_type": "markdown",
   "metadata": {},
   "source": [
    "Удалим ненужные столбцы, заполним пропуски"
   ]
  },
  {
   "cell_type": "code",
   "execution_count": 16,
   "metadata": {},
   "outputs": [],
   "source": [
    "events_dates = events_dates.drop(['Edate_1', 'Edate_2', 'Edate_3',\n",
    "                                  'Sdate_1', 'Sdate_2', 'Sdate_3',\n",
    "                                  'delta_2', 'delta_3'], axis=1)"
   ]
  },
  {
   "cell_type": "code",
   "execution_count": 17,
   "metadata": {},
   "outputs": [],
   "source": [
    "#сделаем переименование столбца\n",
    "events_dates = events_dates.rename(columns={'delta_1': 'time_diff'})"
   ]
  },
  {
   "cell_type": "code",
   "execution_count": 18,
   "metadata": {},
   "outputs": [],
   "source": [
    "#заполним пропуски\n",
    "events_dates = events_dates.fillna(-1000)"
   ]
  },
  {
   "cell_type": "markdown",
   "metadata": {},
   "source": [
    "Расчитаем относительную разность дат"
   ]
  },
  {
   "cell_type": "code",
   "execution_count": 19,
   "metadata": {},
   "outputs": [],
   "source": [
    "#словарь {разность дней: количество пользователей, имеющих такую разность} \n",
    "Ni = Counter(events_dates.time_diff)"
   ]
  },
  {
   "cell_type": "code",
   "execution_count": 20,
   "metadata": {},
   "outputs": [],
   "source": [
    "events_dates['time_ratio'] = 0# создаем новый столбец, сразу изменим тип\n",
    "events_dates.time_ratio = events_dates.time_ratio.astype('float')"
   ]
  },
  {
   "cell_type": "code",
   "execution_count": 21,
   "metadata": {},
   "outputs": [],
   "source": [
    "N = events_dates.time_diff.count()# Общее количество"
   ]
  },
  {
   "cell_type": "code",
   "execution_count": 22,
   "metadata": {},
   "outputs": [],
   "source": [
    "# Заполняем относительными частотами\n",
    "for i in range(len(events_dates)):\n",
    "    events_dates.time_ratio[i] = (Ni.get(events_dates.time_diff[i])) / (N)"
   ]
  },
  {
   "cell_type": "markdown",
   "metadata": {},
   "source": [
    "Сохраним результаты в файл:"
   ]
  },
  {
   "cell_type": "code",
   "execution_count": 23,
   "metadata": {},
   "outputs": [],
   "source": [
    "events_dates.to_csv('DATA\\\\daysdiff_ratio.csv', index=False)"
   ]
  },
  {
   "cell_type": "code",
   "execution_count": 24,
   "metadata": {},
   "outputs": [
    {
     "name": "stdout",
     "output_type": "stream",
     "text": [
      "<class 'pandas.core.frame.DataFrame'>\n",
      "Int64Index: 25418 entries, 0 to 25417\n",
      "Data columns (total 3 columns):\n",
      " #   Column      Non-Null Count  Dtype  \n",
      "---  ------      --------------  -----  \n",
      " 0   user_id     25418 non-null  int64  \n",
      " 1   time_diff   25418 non-null  float64\n",
      " 2   time_ratio  25418 non-null  float64\n",
      "dtypes: float64(2), int64(1)\n",
      "memory usage: 1.8 MB\n"
     ]
    }
   ],
   "source": [
    "events_dates.info()"
   ]
  },
  {
   "cell_type": "code",
   "execution_count": 25,
   "metadata": {},
   "outputs": [
    {
     "data": {
      "text/html": [
       "<div>\n",
       "<style scoped>\n",
       "    .dataframe tbody tr th:only-of-type {\n",
       "        vertical-align: middle;\n",
       "    }\n",
       "\n",
       "    .dataframe tbody tr th {\n",
       "        vertical-align: top;\n",
       "    }\n",
       "\n",
       "    .dataframe thead th {\n",
       "        text-align: right;\n",
       "    }\n",
       "</style>\n",
       "<table border=\"1\" class=\"dataframe\">\n",
       "  <thead>\n",
       "    <tr style=\"text-align: right;\">\n",
       "      <th></th>\n",
       "      <th>user_id</th>\n",
       "      <th>time_diff</th>\n",
       "      <th>time_ratio</th>\n",
       "    </tr>\n",
       "  </thead>\n",
       "  <tbody>\n",
       "    <tr>\n",
       "      <th>0</th>\n",
       "      <td>1</td>\n",
       "      <td>-1000.0</td>\n",
       "      <td>0.509914</td>\n",
       "    </tr>\n",
       "    <tr>\n",
       "      <th>1</th>\n",
       "      <td>2</td>\n",
       "      <td>0.0</td>\n",
       "      <td>0.418798</td>\n",
       "    </tr>\n",
       "    <tr>\n",
       "      <th>2</th>\n",
       "      <td>3</td>\n",
       "      <td>0.0</td>\n",
       "      <td>0.418798</td>\n",
       "    </tr>\n",
       "    <tr>\n",
       "      <th>3</th>\n",
       "      <td>4</td>\n",
       "      <td>-1000.0</td>\n",
       "      <td>0.509914</td>\n",
       "    </tr>\n",
       "    <tr>\n",
       "      <th>4</th>\n",
       "      <td>5</td>\n",
       "      <td>-1000.0</td>\n",
       "      <td>0.509914</td>\n",
       "    </tr>\n",
       "    <tr>\n",
       "      <th>...</th>\n",
       "      <td>...</td>\n",
       "      <td>...</td>\n",
       "      <td>...</td>\n",
       "    </tr>\n",
       "    <tr>\n",
       "      <th>25413</th>\n",
       "      <td>26796</td>\n",
       "      <td>17.0</td>\n",
       "      <td>0.000944</td>\n",
       "    </tr>\n",
       "    <tr>\n",
       "      <th>25414</th>\n",
       "      <td>26797</td>\n",
       "      <td>0.0</td>\n",
       "      <td>0.418798</td>\n",
       "    </tr>\n",
       "    <tr>\n",
       "      <th>25415</th>\n",
       "      <td>26798</td>\n",
       "      <td>0.0</td>\n",
       "      <td>0.418798</td>\n",
       "    </tr>\n",
       "    <tr>\n",
       "      <th>25416</th>\n",
       "      <td>26799</td>\n",
       "      <td>1.0</td>\n",
       "      <td>0.017625</td>\n",
       "    </tr>\n",
       "    <tr>\n",
       "      <th>25417</th>\n",
       "      <td>26800</td>\n",
       "      <td>-1000.0</td>\n",
       "      <td>0.509914</td>\n",
       "    </tr>\n",
       "  </tbody>\n",
       "</table>\n",
       "<p>25418 rows × 3 columns</p>\n",
       "</div>"
      ],
      "text/plain": [
       "       user_id  time_diff  time_ratio\n",
       "0            1    -1000.0    0.509914\n",
       "1            2        0.0    0.418798\n",
       "2            3        0.0    0.418798\n",
       "3            4    -1000.0    0.509914\n",
       "4            5    -1000.0    0.509914\n",
       "...        ...        ...         ...\n",
       "25413    26796       17.0    0.000944\n",
       "25414    26797        0.0    0.418798\n",
       "25415    26798        0.0    0.418798\n",
       "25416    26799        1.0    0.017625\n",
       "25417    26800    -1000.0    0.509914\n",
       "\n",
       "[25418 rows x 3 columns]"
      ]
     },
     "execution_count": 25,
     "metadata": {},
     "output_type": "execute_result"
    }
   ],
   "source": [
    "events_dates"
   ]
  }
 ],
 "metadata": {
  "kernelspec": {
   "display_name": "Python 3",
   "language": "python",
   "name": "python3"
  },
  "language_info": {
   "codemirror_mode": {
    "name": "ipython",
    "version": 3
   },
   "file_extension": ".py",
   "mimetype": "text/x-python",
   "name": "python",
   "nbconvert_exporter": "python",
   "pygments_lexer": "ipython3",
   "version": "3.7.6"
  }
 },
 "nbformat": 4,
 "nbformat_minor": 4
}
