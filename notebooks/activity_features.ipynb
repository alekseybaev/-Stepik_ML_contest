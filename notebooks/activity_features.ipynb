{
 "cells": [
  {
   "cell_type": "markdown",
   "metadata": {},
   "source": [
    "# Признаки активности для дня недели, недели года, дня месяца"
   ]
  },
  {
   "cell_type": "markdown",
   "metadata": {},
   "source": [
    "Импортируем библиотеки и делаем некоторые настройки"
   ]
  },
  {
   "cell_type": "code",
   "execution_count": 1,
   "metadata": {},
   "outputs": [],
   "source": [
    "import pandas as pd\n",
    "import numpy as np"
   ]
  },
  {
   "cell_type": "code",
   "execution_count": 2,
   "metadata": {},
   "outputs": [],
   "source": [
    "import datetime\n",
    "from datetime import datetime, date"
   ]
  },
  {
   "cell_type": "code",
   "execution_count": 3,
   "metadata": {},
   "outputs": [],
   "source": [
    "import warnings\n",
    "warnings.filterwarnings('ignore')"
   ]
  },
  {
   "cell_type": "markdown",
   "metadata": {},
   "source": [
    "Загружаем данные"
   ]
  },
  {
   "cell_type": "code",
   "execution_count": 4,
   "metadata": {},
   "outputs": [],
   "source": [
    "events_dates = pd.read_csv('DATA\\\\events_dates.csv')"
   ]
  },
  {
   "cell_type": "code",
   "execution_count": 5,
   "metadata": {},
   "outputs": [],
   "source": [
    "#сразу переименуем столбцы\n",
    "events_dates = events_dates.rename(columns={'date_1':'Edate_1',\n",
    "                                            'date_2':'Edate_2',\n",
    "                                            'date_3':'Edate_3'})   "
   ]
  },
  {
   "cell_type": "code",
   "execution_count": 6,
   "metadata": {},
   "outputs": [],
   "source": [
    "submissions_dates = pd.read_csv('DATA\\\\submissions_dates.csv')"
   ]
  },
  {
   "cell_type": "code",
   "execution_count": 7,
   "metadata": {},
   "outputs": [],
   "source": [
    "#сразу переименуем столбцы\n",
    "submissions_dates = submissions_dates.rename(columns={'date_1':'Sdate_1',\n",
    "                                                      'date_2':'Sdate_2',\n",
    "                                                      'date_3':'Sdate_3'})"
   ]
  },
  {
   "cell_type": "markdown",
   "metadata": {},
   "source": [
    "Объединяем данные EVENTS и SUBMISSIONS"
   ]
  },
  {
   "cell_type": "code",
   "execution_count": 8,
   "metadata": {},
   "outputs": [],
   "source": [
    "dates = events_dates.merge(submissions_dates, on=['user_id'], how='outer')"
   ]
  },
  {
   "cell_type": "code",
   "execution_count": 9,
   "metadata": {},
   "outputs": [],
   "source": [
    "dates = dates.fillna(0)#это временно"
   ]
  },
  {
   "cell_type": "code",
   "execution_count": 10,
   "metadata": {},
   "outputs": [],
   "source": [
    "# В тех ячейках, где отсутствуют сабмиты, заполню датами из  Edate_1\n",
    "dates['Sdate_1'][dates.Sdate_1 == 0] = dates.Edate_1"
   ]
  },
  {
   "cell_type": "code",
   "execution_count": 11,
   "metadata": {},
   "outputs": [],
   "source": [
    "del submissions_dates\n",
    "del events_dates"
   ]
  },
  {
   "cell_type": "markdown",
   "metadata": {},
   "source": [
    "Работаем с EVENTS-датами"
   ]
  },
  {
   "cell_type": "code",
   "execution_count": 12,
   "metadata": {},
   "outputs": [],
   "source": [
    "#преобразуем даты EVENTS в формат datatime\n",
    "f = lambda x: datetime.strptime(x, '%Y-%m-%d') \n",
    "dates.Edate_1 = dates.Edate_1.apply(f)\n",
    "dates.Edate_2 = dates.Edate_2.apply(f)\n",
    "dates.Edate_3 = dates.Edate_3.apply(f)"
   ]
  },
  {
   "cell_type": "code",
   "execution_count": 13,
   "metadata": {},
   "outputs": [],
   "source": [
    "d_1 = pd.DateOffset(days = 1)# переменные, равные 1 и 2 дням соответственно\n",
    "d_2 = pd.DateOffset(days = 2)"
   ]
  },
  {
   "cell_type": "code",
   "execution_count": 14,
   "metadata": {},
   "outputs": [],
   "source": [
    "dates.Edate_2 = dates.Edate_1 + d_1# заполняем датами 2й и 3й дни\n",
    "dates.Edate_3 = dates.Edate_1 + d_2"
   ]
  },
  {
   "cell_type": "code",
   "execution_count": 15,
   "metadata": {},
   "outputs": [],
   "source": [
    "dates['week_1'] = dates.Edate_1.dt.week# номер недели 1, 2 и 3 дней\n",
    "dates['week_2'] = dates.Edate_2.dt.week\n",
    "dates['week_3'] = dates.Edate_3.dt.week\n",
    "dates['weekday_1'] = dates.Edate_1.dt.weekday# день недели для 1, 2 \n",
    "dates['weekday_2'] = dates.Edate_2.dt.weekday# и 3 дней\n",
    "dates['weekday_3'] = dates.Edate_3.dt.weekday\n",
    "dates['day_1'] = dates.Edate_1.dt.day# день месяца для 1, 2 и 3 дней\n",
    "dates['day_2'] = dates.Edate_2.dt.day\n",
    "dates['day_3'] = dates.Edate_3.dt.day"
   ]
  },
  {
   "cell_type": "markdown",
   "metadata": {},
   "source": [
    "Загружаем параметры активности по неделям, по дням недели и по дням месяца"
   ]
  },
  {
   "cell_type": "code",
   "execution_count": 16,
   "metadata": {},
   "outputs": [],
   "source": [
    "week = pd.read_csv('DATA\\koef_week.csv')\n",
    "weekday = pd.read_csv('DATA\\koef_weekday.csv')\n",
    "day = pd.read_csv('DATA\\koef_day.csv')"
   ]
  },
  {
   "cell_type": "markdown",
   "metadata": {},
   "source": [
    "Выполняем слияние, переименование и удаление ненужных колонок"
   ]
  },
  {
   "cell_type": "code",
   "execution_count": 17,
   "metadata": {},
   "outputs": [],
   "source": [
    "dates = dates.merge(week, left_on='week_1', right_on='week', how='inner')\n",
    "dates = dates.drop('week', axis=1).rename(columns={'koef_wk': 'Ewk_1'})"
   ]
  },
  {
   "cell_type": "code",
   "execution_count": 18,
   "metadata": {},
   "outputs": [],
   "source": [
    "dates = dates.merge(week, left_on='week_2', right_on='week', how='inner')\n",
    "dates = dates.drop('week', axis=1).rename(columns={'koef_wk': 'Ewk_2'})"
   ]
  },
  {
   "cell_type": "code",
   "execution_count": 19,
   "metadata": {},
   "outputs": [],
   "source": [
    "dates = dates.merge(week, left_on='week_3', right_on='week', how='inner')\n",
    "dates = dates.drop('week', axis=1).rename(columns={'koef_wk': 'Ewk_3'})"
   ]
  },
  {
   "cell_type": "code",
   "execution_count": 20,
   "metadata": {},
   "outputs": [],
   "source": [
    "dates = dates.merge(weekday, left_on='weekday_1', right_on='weekday')\n",
    "dates = dates.drop('weekday', axis=1).rename(columns={'koef_wd': 'Ewd_1'})"
   ]
  },
  {
   "cell_type": "code",
   "execution_count": 21,
   "metadata": {},
   "outputs": [],
   "source": [
    "dates = dates.merge(weekday, left_on='weekday_2', right_on='weekday')\n",
    "dates = dates.drop('weekday', axis=1).rename(columns={'koef_wd': 'Ewd_2'})"
   ]
  },
  {
   "cell_type": "code",
   "execution_count": 22,
   "metadata": {},
   "outputs": [],
   "source": [
    "dates = dates.merge(weekday, left_on='weekday_3', right_on='weekday')\n",
    "dates = dates.drop('weekday', axis=1).rename(columns={'koef_wd': 'Ewd_3'})"
   ]
  },
  {
   "cell_type": "code",
   "execution_count": 23,
   "metadata": {},
   "outputs": [],
   "source": [
    "dates = dates.merge(day, left_on='day_1', right_on='day')\n",
    "dates = dates.drop('day', axis=1).rename(columns={'koef_dm': 'Eday_1'})"
   ]
  },
  {
   "cell_type": "code",
   "execution_count": 24,
   "metadata": {},
   "outputs": [],
   "source": [
    "dates = dates.merge(day, left_on='day_2', right_on='day')\n",
    "dates = dates.drop('day', axis=1).rename(columns={'koef_dm': 'Eday_2'})"
   ]
  },
  {
   "cell_type": "code",
   "execution_count": 25,
   "metadata": {},
   "outputs": [],
   "source": [
    "dates = dates.merge(day, left_on='day_3', right_on='day')\n",
    "dates = dates.drop('day', axis=1).rename(columns={'koef_dm': 'Eday_3'})"
   ]
  },
  {
   "cell_type": "code",
   "execution_count": 26,
   "metadata": {},
   "outputs": [],
   "source": [
    "dates = dates.drop(['week_1', 'week_2', 'week_3',\n",
    "                    'weekday_1', 'weekday_2', 'weekday_3',\n",
    "                    'day_1', 'day_2', 'day_3'], axis=1)"
   ]
  },
  {
   "cell_type": "markdown",
   "metadata": {},
   "source": [
    "Теперь c SUBMISSION"
   ]
  },
  {
   "cell_type": "code",
   "execution_count": 27,
   "metadata": {},
   "outputs": [],
   "source": [
    "dates.Sdate_1 = dates.Sdate_1.apply(f)#преобразуем даты в формат datatime"
   ]
  },
  {
   "cell_type": "code",
   "execution_count": 28,
   "metadata": {},
   "outputs": [],
   "source": [
    "dates.Sdate_2 = dates.Sdate_1 + d_1# заполняем датами 2й и 3й дни\n",
    "dates.Sdate_3 = dates.Sdate_1 + d_2"
   ]
  },
  {
   "cell_type": "code",
   "execution_count": 29,
   "metadata": {},
   "outputs": [],
   "source": [
    "dates['week_1'] = dates.Sdate_1.dt.week# номер недели 1, 2 и 3 дней\n",
    "dates['week_2'] = dates.Sdate_2.dt.week\n",
    "dates['week_3'] = dates.Sdate_3.dt.week\n",
    "dates['weekday_1'] = dates.Sdate_1.dt.weekday# день недели \n",
    "dates['weekday_2'] = dates.Sdate_2.dt.weekday# для 1, 2 и 3 дней\n",
    "dates['weekday_3'] = dates.Sdate_3.dt.weekday\n",
    "dates['day_1'] = dates.Sdate_1.dt.day# день месяца для 1, 2 и 3 дней\n",
    "dates['day_2'] = dates.Sdate_2.dt.day\n",
    "dates['day_3'] = dates.Sdate_3.dt.day"
   ]
  },
  {
   "cell_type": "markdown",
   "metadata": {},
   "source": [
    "Выполняем слияние, переименование и удаление ненужных колонок"
   ]
  },
  {
   "cell_type": "code",
   "execution_count": 30,
   "metadata": {},
   "outputs": [],
   "source": [
    "dates = dates.merge(week,left_on='week_1',right_on='week')\n",
    "dates = dates.drop('week', axis=1).rename(columns={'koef_wk': 'Swk_1'})"
   ]
  },
  {
   "cell_type": "code",
   "execution_count": 31,
   "metadata": {},
   "outputs": [],
   "source": [
    "dates = dates.merge(week,left_on='week_2',right_on='week')\n",
    "dates = dates.drop('week', axis=1).rename(columns={'koef_wk': 'Swk_2'})"
   ]
  },
  {
   "cell_type": "code",
   "execution_count": 32,
   "metadata": {},
   "outputs": [],
   "source": [
    "dates = dates.merge(week,left_on='week_3',right_on='week')\n",
    "dates = dates.drop('week', axis=1).rename(columns={'koef_wk': 'Swk_3'})"
   ]
  },
  {
   "cell_type": "code",
   "execution_count": 33,
   "metadata": {},
   "outputs": [],
   "source": [
    "dates = dates.merge(weekday,left_on='weekday_1',right_on='weekday')\n",
    "dates = dates.drop('weekday', axis=1).rename(columns={'koef_wd': 'Swd_1'})"
   ]
  },
  {
   "cell_type": "code",
   "execution_count": 34,
   "metadata": {},
   "outputs": [],
   "source": [
    "dates = dates.merge(weekday,left_on='weekday_2',right_on='weekday')\n",
    "dates = dates.drop('weekday', axis=1).rename(columns={'koef_wd': 'Swd_2'})"
   ]
  },
  {
   "cell_type": "code",
   "execution_count": 35,
   "metadata": {},
   "outputs": [],
   "source": [
    "dates = dates.merge(weekday,left_on='weekday_3',right_on='weekday')\n",
    "dates = dates.drop('weekday', axis=1).rename(columns={'koef_wd': 'Swd_3'})"
   ]
  },
  {
   "cell_type": "code",
   "execution_count": 36,
   "metadata": {},
   "outputs": [],
   "source": [
    "dates = dates.merge(day, left_on='day_1', right_on='day')\n",
    "dates = dates.drop('day', axis=1).rename(columns={'koef_dm': 'Sday_1'})"
   ]
  },
  {
   "cell_type": "code",
   "execution_count": 37,
   "metadata": {},
   "outputs": [],
   "source": [
    "dates = dates.merge(day, left_on='day_2', right_on='day')\n",
    "dates = dates.drop('day', axis=1).rename(columns={'koef_dm': 'Sday_2'})"
   ]
  },
  {
   "cell_type": "code",
   "execution_count": 38,
   "metadata": {},
   "outputs": [],
   "source": [
    "dates = dates.merge(day, left_on='day_3', right_on='day')\n",
    "dates = dates.drop('day', axis=1).rename(columns={'koef_dm': 'Sday_3'})"
   ]
  },
  {
   "cell_type": "code",
   "execution_count": 39,
   "metadata": {},
   "outputs": [],
   "source": [
    "dates.sort_values(by=['user_id'], axis=0, inplace=True)"
   ]
  },
  {
   "cell_type": "code",
   "execution_count": 40,
   "metadata": {},
   "outputs": [],
   "source": [
    "dates['koef_week_mean']=(dates.Swk_1 + dates.Swk_2 + dates.Swk_3)/3"
   ]
  },
  {
   "cell_type": "code",
   "execution_count": 41,
   "metadata": {},
   "outputs": [],
   "source": [
    "dates = dates.drop(['Edate_1', 'Edate_2', 'Edate_3', \n",
    "                    'Sdate_1', 'Sdate_2', 'Sdate_3',\n",
    "                    'week_1', 'week_2', 'week_3',\n",
    "                    'weekday_1', 'weekday_2', 'weekday_3',\n",
    "                    'day_1', 'day_2', 'day_3',\n",
    "                    'Ewk_1', 'Ewk_2', 'Ewk_3',\n",
    "                    'Ewd_1', 'Ewd_2', 'Ewd_3',\n",
    "                    'Eday_1', 'Eday_2', 'Eday_3',\n",
    "                    'Swk_1', 'Swk_2', 'Swk_3'], axis=1)"
   ]
  },
  {
   "cell_type": "code",
   "execution_count": 42,
   "metadata": {},
   "outputs": [],
   "source": [
    "dates = dates.rename(columns={'Swd_1': 'koef_weekday_1',\n",
    "                              'Swd_2': 'koef_weekday_2',\n",
    "                              'Swd_3': 'koef_weekday_3',\n",
    "                              'Sday_1': 'koef_day_1',\n",
    "                              'Sday_2': 'koef_day_2',\n",
    "                              'Sday_3': 'koef_day_3'})"
   ]
  },
  {
   "cell_type": "markdown",
   "metadata": {},
   "source": [
    "Сохраним результаты в файл:"
   ]
  },
  {
   "cell_type": "code",
   "execution_count": 43,
   "metadata": {},
   "outputs": [],
   "source": [
    "dates.to_csv('DATA\\\\week_weekday_day.zip', index=False, compression='zip')"
   ]
  },
  {
   "cell_type": "code",
   "execution_count": 44,
   "metadata": {},
   "outputs": [
    {
     "data": {
      "text/html": [
       "<div>\n",
       "<style scoped>\n",
       "    .dataframe tbody tr th:only-of-type {\n",
       "        vertical-align: middle;\n",
       "    }\n",
       "\n",
       "    .dataframe tbody tr th {\n",
       "        vertical-align: top;\n",
       "    }\n",
       "\n",
       "    .dataframe thead th {\n",
       "        text-align: right;\n",
       "    }\n",
       "</style>\n",
       "<table border=\"1\" class=\"dataframe\">\n",
       "  <thead>\n",
       "    <tr style=\"text-align: right;\">\n",
       "      <th></th>\n",
       "      <th>user_id</th>\n",
       "      <th>koef_weekday_1</th>\n",
       "      <th>koef_weekday_2</th>\n",
       "      <th>koef_weekday_3</th>\n",
       "      <th>koef_day_1</th>\n",
       "      <th>koef_day_2</th>\n",
       "      <th>koef_day_3</th>\n",
       "      <th>koef_week_mean</th>\n",
       "    </tr>\n",
       "  </thead>\n",
       "  <tbody>\n",
       "    <tr>\n",
       "      <th>0</th>\n",
       "      <td>1</td>\n",
       "      <td>0.140223</td>\n",
       "      <td>0.118389</td>\n",
       "      <td>0.130860</td>\n",
       "      <td>0.034963</td>\n",
       "      <td>0.035346</td>\n",
       "      <td>0.032876</td>\n",
       "      <td>0.018919</td>\n",
       "    </tr>\n",
       "    <tr>\n",
       "      <th>11212</th>\n",
       "      <td>2</td>\n",
       "      <td>0.161449</td>\n",
       "      <td>0.151801</td>\n",
       "      <td>0.140223</td>\n",
       "      <td>0.031171</td>\n",
       "      <td>0.031415</td>\n",
       "      <td>0.032599</td>\n",
       "      <td>0.019003</td>\n",
       "    </tr>\n",
       "    <tr>\n",
       "      <th>9964</th>\n",
       "      <td>3</td>\n",
       "      <td>0.145941</td>\n",
       "      <td>0.151336</td>\n",
       "      <td>0.161449</td>\n",
       "      <td>0.028597</td>\n",
       "      <td>0.031867</td>\n",
       "      <td>0.031554</td>\n",
       "      <td>0.019739</td>\n",
       "    </tr>\n",
       "    <tr>\n",
       "      <th>19601</th>\n",
       "      <td>4</td>\n",
       "      <td>0.145941</td>\n",
       "      <td>0.151336</td>\n",
       "      <td>0.161449</td>\n",
       "      <td>0.033050</td>\n",
       "      <td>0.032876</td>\n",
       "      <td>0.032771</td>\n",
       "      <td>0.019739</td>\n",
       "    </tr>\n",
       "    <tr>\n",
       "      <th>14483</th>\n",
       "      <td>5</td>\n",
       "      <td>0.161449</td>\n",
       "      <td>0.151801</td>\n",
       "      <td>0.140223</td>\n",
       "      <td>0.032945</td>\n",
       "      <td>0.033537</td>\n",
       "      <td>0.032632</td>\n",
       "      <td>0.015910</td>\n",
       "    </tr>\n",
       "    <tr>\n",
       "      <th>...</th>\n",
       "      <td>...</td>\n",
       "      <td>...</td>\n",
       "      <td>...</td>\n",
       "      <td>...</td>\n",
       "      <td>...</td>\n",
       "      <td>...</td>\n",
       "      <td>...</td>\n",
       "      <td>...</td>\n",
       "    </tr>\n",
       "    <tr>\n",
       "      <th>14958</th>\n",
       "      <td>26796</td>\n",
       "      <td>0.118389</td>\n",
       "      <td>0.130860</td>\n",
       "      <td>0.145941</td>\n",
       "      <td>0.032945</td>\n",
       "      <td>0.033537</td>\n",
       "      <td>0.032632</td>\n",
       "      <td>0.014664</td>\n",
       "    </tr>\n",
       "    <tr>\n",
       "      <th>15158</th>\n",
       "      <td>26797</td>\n",
       "      <td>0.151801</td>\n",
       "      <td>0.140223</td>\n",
       "      <td>0.118389</td>\n",
       "      <td>0.032876</td>\n",
       "      <td>0.032771</td>\n",
       "      <td>0.032528</td>\n",
       "      <td>0.024070</td>\n",
       "    </tr>\n",
       "    <tr>\n",
       "      <th>22192</th>\n",
       "      <td>26798</td>\n",
       "      <td>0.151336</td>\n",
       "      <td>0.161449</td>\n",
       "      <td>0.151801</td>\n",
       "      <td>0.033537</td>\n",
       "      <td>0.032632</td>\n",
       "      <td>0.028597</td>\n",
       "      <td>0.019831</td>\n",
       "    </tr>\n",
       "    <tr>\n",
       "      <th>4724</th>\n",
       "      <td>26799</td>\n",
       "      <td>0.140223</td>\n",
       "      <td>0.118389</td>\n",
       "      <td>0.130860</td>\n",
       "      <td>0.031902</td>\n",
       "      <td>0.030232</td>\n",
       "      <td>0.031275</td>\n",
       "      <td>0.026942</td>\n",
       "    </tr>\n",
       "    <tr>\n",
       "      <th>20886</th>\n",
       "      <td>26800</td>\n",
       "      <td>0.140223</td>\n",
       "      <td>0.118389</td>\n",
       "      <td>0.130860</td>\n",
       "      <td>0.031171</td>\n",
       "      <td>0.031902</td>\n",
       "      <td>0.030232</td>\n",
       "      <td>0.016184</td>\n",
       "    </tr>\n",
       "  </tbody>\n",
       "</table>\n",
       "<p>25418 rows × 8 columns</p>\n",
       "</div>"
      ],
      "text/plain": [
       "       user_id  koef_weekday_1  koef_weekday_2  koef_weekday_3  koef_day_1  \\\n",
       "0            1        0.140223        0.118389        0.130860    0.034963   \n",
       "11212        2        0.161449        0.151801        0.140223    0.031171   \n",
       "9964         3        0.145941        0.151336        0.161449    0.028597   \n",
       "19601        4        0.145941        0.151336        0.161449    0.033050   \n",
       "14483        5        0.161449        0.151801        0.140223    0.032945   \n",
       "...        ...             ...             ...             ...         ...   \n",
       "14958    26796        0.118389        0.130860        0.145941    0.032945   \n",
       "15158    26797        0.151801        0.140223        0.118389    0.032876   \n",
       "22192    26798        0.151336        0.161449        0.151801    0.033537   \n",
       "4724     26799        0.140223        0.118389        0.130860    0.031902   \n",
       "20886    26800        0.140223        0.118389        0.130860    0.031171   \n",
       "\n",
       "       koef_day_2  koef_day_3  koef_week_mean  \n",
       "0        0.035346    0.032876        0.018919  \n",
       "11212    0.031415    0.032599        0.019003  \n",
       "9964     0.031867    0.031554        0.019739  \n",
       "19601    0.032876    0.032771        0.019739  \n",
       "14483    0.033537    0.032632        0.015910  \n",
       "...           ...         ...             ...  \n",
       "14958    0.033537    0.032632        0.014664  \n",
       "15158    0.032771    0.032528        0.024070  \n",
       "22192    0.032632    0.028597        0.019831  \n",
       "4724     0.030232    0.031275        0.026942  \n",
       "20886    0.031902    0.030232        0.016184  \n",
       "\n",
       "[25418 rows x 8 columns]"
      ]
     },
     "execution_count": 44,
     "metadata": {},
     "output_type": "execute_result"
    }
   ],
   "source": [
    "dates"
   ]
  },
  {
   "cell_type": "code",
   "execution_count": 45,
   "metadata": {},
   "outputs": [
    {
     "name": "stdout",
     "output_type": "stream",
     "text": [
      "<class 'pandas.core.frame.DataFrame'>\n",
      "Int64Index: 25418 entries, 0 to 20886\n",
      "Data columns (total 8 columns):\n",
      " #   Column          Non-Null Count  Dtype  \n",
      "---  ------          --------------  -----  \n",
      " 0   user_id         25418 non-null  int64  \n",
      " 1   koef_weekday_1  25418 non-null  float64\n",
      " 2   koef_weekday_2  25418 non-null  float64\n",
      " 3   koef_weekday_3  25418 non-null  float64\n",
      " 4   koef_day_1      25418 non-null  float64\n",
      " 5   koef_day_2      25418 non-null  float64\n",
      " 6   koef_day_3      25418 non-null  float64\n",
      " 7   koef_week_mean  25418 non-null  float64\n",
      "dtypes: float64(7), int64(1)\n",
      "memory usage: 1.7 MB\n"
     ]
    }
   ],
   "source": [
    "dates.info()"
   ]
  }
 ],
 "metadata": {
  "kernelspec": {
   "display_name": "Python 3",
   "language": "python",
   "name": "python3"
  },
  "language_info": {
   "codemirror_mode": {
    "name": "ipython",
    "version": 3
   },
   "file_extension": ".py",
   "mimetype": "text/x-python",
   "name": "python",
   "nbconvert_exporter": "python",
   "pygments_lexer": "ipython3",
   "version": "3.7.6"
  }
 },
 "nbformat": 4,
 "nbformat_minor": 4
}
