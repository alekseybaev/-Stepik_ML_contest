{
 "cells": [
  {
   "cell_type": "markdown",
   "metadata": {},
   "source": [
    "# Признаки для объединенного датасета submissions_train.csv и submission_data_test.csv"
   ]
  },
  {
   "cell_type": "markdown",
   "metadata": {},
   "source": [
    "Импортируем библиотеки и делаем некоторые настройки"
   ]
  },
  {
   "cell_type": "code",
   "execution_count": 1,
   "metadata": {},
   "outputs": [],
   "source": [
    "import pandas as pd\n",
    "import numpy as np\n",
    "import matplotlib.pyplot as plt\n",
    "import seaborn as sns"
   ]
  },
  {
   "cell_type": "code",
   "execution_count": 2,
   "metadata": {},
   "outputs": [],
   "source": [
    "from collections import Counter"
   ]
  },
  {
   "cell_type": "code",
   "execution_count": 3,
   "metadata": {},
   "outputs": [],
   "source": [
    "sns.set(rc={'figure.figsize': (20, 10)})\n",
    "%matplotlib inline"
   ]
  },
  {
   "cell_type": "code",
   "execution_count": 4,
   "metadata": {},
   "outputs": [],
   "source": [
    "import warnings\n",
    "warnings.filterwarnings('ignore')"
   ]
  },
  {
   "cell_type": "markdown",
   "metadata": {},
   "source": [
    "Загружаем данные о статусах сабмитов"
   ]
  },
  {
   "cell_type": "code",
   "execution_count": 5,
   "metadata": {},
   "outputs": [],
   "source": [
    "submissions = pd.read_csv('DATA\\\\submissions_all_two_days.zip', compression='zip')"
   ]
  },
  {
   "cell_type": "markdown",
   "metadata": {},
   "source": [
    "Сводная таблица по всем категориям из submission_status"
   ]
  },
  {
   "cell_type": "code",
   "execution_count": 6,
   "metadata": {},
   "outputs": [],
   "source": [
    "first_data = submissions.pivot_table(index='user_id',\n",
    "                                     columns='submission_status',\n",
    "                                     values='step_id',\n",
    "                                     aggfunc='count',\n",
    "                                     fill_value=0).reset_index()"
   ]
  },
  {
   "cell_type": "code",
   "execution_count": 7,
   "metadata": {},
   "outputs": [],
   "source": [
    "#уберем индекс submission_status\n",
    "first_data.columns\n",
    "first_data.columns.name\n",
    "first_data.columns.name = None"
   ]
  },
  {
   "cell_type": "markdown",
   "metadata": {},
   "source": [
    "Переименование колонок"
   ]
  },
  {
   "cell_type": "code",
   "execution_count": 8,
   "metadata": {},
   "outputs": [],
   "source": [
    "first_data = first_data.rename(columns={'correct': 'c_count',\n",
    "                                        'wrong': 'w_count'})"
   ]
  },
  {
   "cell_type": "markdown",
   "metadata": {},
   "source": [
    "Сводная таблица по всем категориям для уникальных step_id"
   ]
  },
  {
   "cell_type": "code",
   "execution_count": 9,
   "metadata": {},
   "outputs": [],
   "source": [
    "second_data = submissions.pivot_table(index='user_id',\n",
    "                                      columns='submission_status',\n",
    "                                      values='step_id',\n",
    "                                      aggfunc='nunique',\n",
    "                                      fill_value=0).reset_index()"
   ]
  },
  {
   "cell_type": "code",
   "execution_count": 10,
   "metadata": {},
   "outputs": [],
   "source": [
    "second_data.columns\n",
    "second_data.columns.name\n",
    "second_data.columns.name = None"
   ]
  },
  {
   "cell_type": "code",
   "execution_count": 11,
   "metadata": {},
   "outputs": [],
   "source": [
    "second_data = second_data.rename(columns={'correct': 'c_uniq',\n",
    "                                          'wrong': 'w_uniq'})"
   ]
  },
  {
   "cell_type": "markdown",
   "metadata": {},
   "source": [
    "Соединяем сабмиты уникальные и нет"
   ]
  },
  {
   "cell_type": "code",
   "execution_count": 12,
   "metadata": {},
   "outputs": [],
   "source": [
    "first_data = first_data.merge(second_data, on='user_id', how='inner')"
   ]
  },
  {
   "cell_type": "markdown",
   "metadata": {},
   "source": [
    "Добавим новые признаки"
   ]
  },
  {
   "cell_type": "code",
   "execution_count": 13,
   "metadata": {},
   "outputs": [],
   "source": [
    "# разности количества и уникальных значений \"correct\" и \"wrong\"\n",
    "first_data['c_diff'] = first_data.c_count - first_data.c_uniq\n",
    "first_data['w_diff'] = first_data.w_count - first_data.w_uniq"
   ]
  },
  {
   "cell_type": "code",
   "execution_count": 14,
   "metadata": {},
   "outputs": [],
   "source": [
    "# отношения количества и уникальных значений \"correct\" и \"wrong\"\n",
    "first_data['c_div'] = (first_data.c_count / first_data.c_uniq)\n",
    "first_data['w_div'] = (first_data.w_count / first_data.w_uniq)"
   ]
  },
  {
   "cell_type": "code",
   "execution_count": 15,
   "metadata": {},
   "outputs": [],
   "source": [
    "first_data = first_data.fillna(1)# Заполним пропуски на 1"
   ]
  },
  {
   "cell_type": "markdown",
   "metadata": {},
   "source": [
    "Сделаем выборку всех step_id для каждого пользователя"
   ]
  },
  {
   "cell_type": "code",
   "execution_count": 16,
   "metadata": {},
   "outputs": [],
   "source": [
    "user_steps = submissions.groupby('user_id').step_id.unique().to_frame() \\\n",
    "             .reset_index().rename(columns={'step_id': 'steps_list'})"
   ]
  },
  {
   "cell_type": "markdown",
   "metadata": {},
   "source": [
    "Отношение суммы step_id к сумме step_id если-бы учашийся проходил их в \"идеальном\" порядке"
   ]
  },
  {
   "cell_type": "code",
   "execution_count": 17,
   "metadata": {},
   "outputs": [],
   "source": [
    "# загрузим \"идеальный\" порядок step_id\n",
    "ideal_steps = pd.read_csv('DATA\\\\ideal_steps_submissions_all.csv')"
   ]
  },
  {
   "cell_type": "code",
   "execution_count": 18,
   "metadata": {},
   "outputs": [],
   "source": [
    "# сумма степов пользователя, дальше заполнил в цикле\n",
    "user_steps['steps_sum'] = np.nan"
   ]
  },
  {
   "cell_type": "code",
   "execution_count": 19,
   "metadata": {},
   "outputs": [],
   "source": [
    "for i in range(len(user_steps)):\n",
    "    user_steps['steps_sum'][i] = sum(user_steps.steps_list[i])"
   ]
  },
  {
   "cell_type": "code",
   "execution_count": 20,
   "metadata": {},
   "outputs": [],
   "source": [
    "# сумма степов \"идеального\" порядка, дальше заполнил\n",
    "user_steps['ideal_steps_sum'] = np.nan"
   ]
  },
  {
   "cell_type": "code",
   "execution_count": 21,
   "metadata": {},
   "outputs": [],
   "source": [
    "for i in range(len(user_steps)):\n",
    "    s = 0\n",
    "    for j in range(len(user_steps.steps_list[i])):\n",
    "         s = s + ideal_steps.step_id[j]\n",
    "    user_steps['ideal_steps_sum'][i] = s"
   ]
  },
  {
   "cell_type": "code",
   "execution_count": 22,
   "metadata": {},
   "outputs": [],
   "source": [
    "# признак\n",
    "user_steps['S_steps_ratio']=user_steps.steps_sum/user_steps.ideal_steps_sum"
   ]
  },
  {
   "cell_type": "code",
   "execution_count": 23,
   "metadata": {},
   "outputs": [],
   "source": [
    "# удалил ненужное\n",
    "user_steps = user_steps.drop(['steps_list',\n",
    "                              'steps_sum',\n",
    "                              'ideal_steps_sum'], axis=1)"
   ]
  },
  {
   "cell_type": "markdown",
   "metadata": {},
   "source": [
    "Добавляем признаки в общую таблицу"
   ]
  },
  {
   "cell_type": "code",
   "execution_count": 24,
   "metadata": {},
   "outputs": [],
   "source": [
    "first_data = first_data.merge(user_steps, on='user_id', how='inner')"
   ]
  },
  {
   "cell_type": "markdown",
   "metadata": {},
   "source": [
    "Далее еще признаки:  \n",
    "* количество пользователей с одинаковыми значениями c_uniq -  c_freq,  \n",
    "* их отношение к количеству всех пользователей - c_density,  \n",
    "* произведение колонок - c_uniq * S_steps_ratio,  \n",
    "* отношение частот текущей к следующей на графике - c_freq[i] / c_freq[i+1],  \n",
    "* признак относительных частот с весами - (c_freq[i]/c_freq[i+1]) * (c_uniq * S_steps_ratio)"
   ]
  },
  {
   "cell_type": "code",
   "execution_count": 25,
   "metadata": {},
   "outputs": [],
   "source": [
    "c_dict = Counter(first_data.c_uniq)# словарик\n",
    "c_dict[0] = 25418 - 12743 + 199# поправил количество для нулевых значений"
   ]
  },
  {
   "cell_type": "code",
   "execution_count": 26,
   "metadata": {},
   "outputs": [
    {
     "data": {
      "text/plain": [
       "<matplotlib.axes._subplots.AxesSubplot at 0x97e93f0>"
      ]
     },
     "execution_count": 26,
     "metadata": {},
     "output_type": "execute_result"
    },
    {
     "data": {
      "image/png": "[encoded data removed]",
      "text/plain": [
       "<Figure size 432x288 with 1 Axes>"
      ]
     },
     "metadata": {
      "needs_background": "light"
     },
     "output_type": "display_data"
    }
   ],
   "source": [
    "# посмотрим на распределение c_uniq\n",
    "first_data.c_uniq.plot.hist(bins=76)"
   ]
  },
  {
   "cell_type": "code",
   "execution_count": 27,
   "metadata": {},
   "outputs": [],
   "source": [
    "# создаем колонки и заполним их в цикле\n",
    "first_data['c_freq'] = np.nan\n",
    "first_data['c_density'] = np.nan"
   ]
  },
  {
   "cell_type": "code",
   "execution_count": 28,
   "metadata": {},
   "outputs": [],
   "source": [
    "for i in range(len(first_data)):\n",
    "    first_data['c_freq'][i] = c_dict.get(first_data.c_uniq[i])\n",
    "    first_data['c_density'][i] = c_dict.get(first_data.c_uniq[i]) / 25418"
   ]
  },
  {
   "cell_type": "code",
   "execution_count": 29,
   "metadata": {},
   "outputs": [],
   "source": [
    "first_data['c_uniq*S_steps_ratio'] = first_data.c_uniq * first_data.S_steps_ratio"
   ]
  },
  {
   "cell_type": "code",
   "execution_count": 30,
   "metadata": {},
   "outputs": [],
   "source": [
    "# создаем вспомогательный столбец и расчитываем его значения\n",
    "first_data['c_freq[i+1]'] = np.nan"
   ]
  },
  {
   "cell_type": "code",
   "execution_count": 31,
   "metadata": {},
   "outputs": [],
   "source": [
    "for i in range(len(first_data)):\n",
    "    first_data['c_freq[i+1]'][i] = c_dict.get((first_data.c_uniq[i] + 1))"
   ]
  },
  {
   "cell_type": "code",
   "execution_count": 32,
   "metadata": {},
   "outputs": [],
   "source": [
    "first_data['c_freq[i]/c_freq[i+1]'] = first_data['c_freq'] / first_data['c_freq[i+1]']"
   ]
  },
  {
   "cell_type": "code",
   "execution_count": 33,
   "metadata": {},
   "outputs": [],
   "source": [
    "# удалим вспомогательный столбец\n",
    "first_data = first_data.drop(['c_freq[i+1]'], axis=1)"
   ]
  },
  {
   "cell_type": "code",
   "execution_count": 34,
   "metadata": {},
   "outputs": [],
   "source": [
    "# пропуски заменим на 1 для редких частот\n",
    "first_data = first_data.fillna(1)"
   ]
  },
  {
   "cell_type": "code",
   "execution_count": 35,
   "metadata": {},
   "outputs": [],
   "source": [
    "# наконец, признак относительных частот с весами\n",
    "first_data['(c_freq[i]/c_freq[i+1])*(c_uniq*S_steps_ratio)'] = \\\n",
    "first_data['c_freq[i]/c_freq[i+1]'] * first_data['c_uniq*S_steps_ratio']"
   ]
  },
  {
   "cell_type": "markdown",
   "metadata": {},
   "source": [
    "Какой был последний сабмит: correct или wrong"
   ]
  },
  {
   "cell_type": "code",
   "execution_count": 36,
   "metadata": {},
   "outputs": [],
   "source": [
    "# определяем последний timestamp\n",
    "step_end = submissions.groupby('user_id').timestamp.max().to_frame() \\\n",
    "           .reset_index().rename(columns={'timestamp': 'end_timestamp'})"
   ]
  },
  {
   "cell_type": "code",
   "execution_count": 37,
   "metadata": {},
   "outputs": [],
   "source": [
    "# соединяем таблицы\n",
    "step_end = step_end.merge(submissions, on='user_id', how='inner')"
   ]
  },
  {
   "cell_type": "code",
   "execution_count": 38,
   "metadata": {},
   "outputs": [],
   "source": [
    "del submissions"
   ]
  },
  {
   "cell_type": "code",
   "execution_count": 39,
   "metadata": {},
   "outputs": [],
   "source": [
    "# отбор строк с последним сабмитом\n",
    "step_end = step_end[step_end['end_timestamp'] == step_end['timestamp']]"
   ]
  },
  {
   "cell_type": "code",
   "execution_count": 40,
   "metadata": {},
   "outputs": [],
   "source": [
    "#для повторяющихся оставляем последнюю строку и заполняем новые колонки\n",
    "step_end = step_end.drop_duplicates(subset=['user_id'], keep='last')"
   ]
  },
  {
   "cell_type": "code",
   "execution_count": 41,
   "metadata": {},
   "outputs": [],
   "source": [
    "step_end['end_correct'] = (step_end.submission_status == 'correct')"
   ]
  },
  {
   "cell_type": "code",
   "execution_count": 42,
   "metadata": {},
   "outputs": [],
   "source": [
    "step_end['end_wrong'] = (step_end.submission_status == 'wrong')"
   ]
  },
  {
   "cell_type": "code",
   "execution_count": 43,
   "metadata": {},
   "outputs": [],
   "source": [
    "step_end = step_end.replace({True: 1, False: 0})"
   ]
  },
  {
   "cell_type": "code",
   "execution_count": 44,
   "metadata": {},
   "outputs": [],
   "source": [
    "# удаляем ненужное\n",
    "step_end = step_end. drop(['end_timestamp', 'step_id', 'timestamp',\n",
    "                           'submission_status', 'min_timestamp',\n",
    "                           'date_time', 'date', 'day', 'month', \n",
    "                           'year', 'week', 'weekday'], axis=1)"
   ]
  },
  {
   "cell_type": "markdown",
   "metadata": {},
   "source": [
    "Добавляем в общую таблицу"
   ]
  },
  {
   "cell_type": "code",
   "execution_count": 45,
   "metadata": {},
   "outputs": [],
   "source": [
    "first_data = first_data.merge(step_end, on='user_id', how='inner')"
   ]
  },
  {
   "cell_type": "markdown",
   "metadata": {},
   "source": [
    "Сохраним результаты в файл:"
   ]
  },
  {
   "cell_type": "code",
   "execution_count": 46,
   "metadata": {},
   "outputs": [],
   "source": [
    "first_data.to_csv('DATA\\\\feature_data_submissions_16.zip', index=False,  compression='zip')"
   ]
  },
  {
   "cell_type": "code",
   "execution_count": 47,
   "metadata": {},
   "outputs": [
    {
     "data": {
      "text/html": [
       "<div>\n",
       "<style scoped>\n",
       "    .dataframe tbody tr th:only-of-type {\n",
       "        vertical-align: middle;\n",
       "    }\n",
       "\n",
       "    .dataframe tbody tr th {\n",
       "        vertical-align: top;\n",
       "    }\n",
       "\n",
       "    .dataframe thead th {\n",
       "        text-align: right;\n",
       "    }\n",
       "</style>\n",
       "<table border=\"1\" class=\"dataframe\">\n",
       "  <thead>\n",
       "    <tr style=\"text-align: right;\">\n",
       "      <th></th>\n",
       "      <th>user_id</th>\n",
       "      <th>c_count</th>\n",
       "      <th>w_count</th>\n",
       "      <th>c_uniq</th>\n",
       "      <th>w_uniq</th>\n",
       "      <th>c_diff</th>\n",
       "      <th>w_diff</th>\n",
       "      <th>c_div</th>\n",
       "      <th>w_div</th>\n",
       "      <th>S_steps_ratio</th>\n",
       "      <th>c_freq</th>\n",
       "      <th>c_density</th>\n",
       "      <th>c_uniq*S_steps_ratio</th>\n",
       "      <th>c_freq[i]/c_freq[i+1]</th>\n",
       "      <th>(c_freq[i]/c_freq[i+1])*(c_uniq*S_steps_ratio)</th>\n",
       "      <th>end_correct</th>\n",
       "      <th>end_wrong</th>\n",
       "    </tr>\n",
       "  </thead>\n",
       "  <tbody>\n",
       "    <tr>\n",
       "      <th>0</th>\n",
       "      <td>2</td>\n",
       "      <td>2</td>\n",
       "      <td>0</td>\n",
       "      <td>2</td>\n",
       "      <td>0</td>\n",
       "      <td>0</td>\n",
       "      <td>0</td>\n",
       "      <td>1.000000</td>\n",
       "      <td>1.0</td>\n",
       "      <td>1.000000</td>\n",
       "      <td>4663.0</td>\n",
       "      <td>0.183453</td>\n",
       "      <td>2.000000</td>\n",
       "      <td>12.671196</td>\n",
       "      <td>25.342391</td>\n",
       "      <td>1</td>\n",
       "      <td>0</td>\n",
       "    </tr>\n",
       "    <tr>\n",
       "      <th>1</th>\n",
       "      <td>3</td>\n",
       "      <td>4</td>\n",
       "      <td>4</td>\n",
       "      <td>4</td>\n",
       "      <td>2</td>\n",
       "      <td>0</td>\n",
       "      <td>2</td>\n",
       "      <td>1.000000</td>\n",
       "      <td>2.0</td>\n",
       "      <td>0.594120</td>\n",
       "      <td>372.0</td>\n",
       "      <td>0.014635</td>\n",
       "      <td>2.376480</td>\n",
       "      <td>0.946565</td>\n",
       "      <td>2.249492</td>\n",
       "      <td>1</td>\n",
       "      <td>0</td>\n",
       "    </tr>\n",
       "    <tr>\n",
       "      <th>2</th>\n",
       "      <td>5</td>\n",
       "      <td>2</td>\n",
       "      <td>2</td>\n",
       "      <td>2</td>\n",
       "      <td>1</td>\n",
       "      <td>0</td>\n",
       "      <td>1</td>\n",
       "      <td>1.000000</td>\n",
       "      <td>2.0</td>\n",
       "      <td>1.000000</td>\n",
       "      <td>4663.0</td>\n",
       "      <td>0.183453</td>\n",
       "      <td>2.000000</td>\n",
       "      <td>12.671196</td>\n",
       "      <td>25.342391</td>\n",
       "      <td>1</td>\n",
       "      <td>0</td>\n",
       "    </tr>\n",
       "    <tr>\n",
       "      <th>3</th>\n",
       "      <td>8</td>\n",
       "      <td>9</td>\n",
       "      <td>21</td>\n",
       "      <td>9</td>\n",
       "      <td>7</td>\n",
       "      <td>0</td>\n",
       "      <td>14</td>\n",
       "      <td>1.000000</td>\n",
       "      <td>3.0</td>\n",
       "      <td>1.010068</td>\n",
       "      <td>1183.0</td>\n",
       "      <td>0.046542</td>\n",
       "      <td>9.090613</td>\n",
       "      <td>9.776860</td>\n",
       "      <td>88.877648</td>\n",
       "      <td>1</td>\n",
       "      <td>0</td>\n",
       "    </tr>\n",
       "    <tr>\n",
       "      <th>4</th>\n",
       "      <td>12</td>\n",
       "      <td>1</td>\n",
       "      <td>0</td>\n",
       "      <td>1</td>\n",
       "      <td>0</td>\n",
       "      <td>0</td>\n",
       "      <td>0</td>\n",
       "      <td>1.000000</td>\n",
       "      <td>1.0</td>\n",
       "      <td>1.000000</td>\n",
       "      <td>1181.0</td>\n",
       "      <td>0.046463</td>\n",
       "      <td>1.000000</td>\n",
       "      <td>0.253270</td>\n",
       "      <td>0.253270</td>\n",
       "      <td>1</td>\n",
       "      <td>0</td>\n",
       "    </tr>\n",
       "    <tr>\n",
       "      <th>...</th>\n",
       "      <td>...</td>\n",
       "      <td>...</td>\n",
       "      <td>...</td>\n",
       "      <td>...</td>\n",
       "      <td>...</td>\n",
       "      <td>...</td>\n",
       "      <td>...</td>\n",
       "      <td>...</td>\n",
       "      <td>...</td>\n",
       "      <td>...</td>\n",
       "      <td>...</td>\n",
       "      <td>...</td>\n",
       "      <td>...</td>\n",
       "      <td>...</td>\n",
       "      <td>...</td>\n",
       "      <td>...</td>\n",
       "      <td>...</td>\n",
       "    </tr>\n",
       "    <tr>\n",
       "      <th>12738</th>\n",
       "      <td>26794</td>\n",
       "      <td>24</td>\n",
       "      <td>7</td>\n",
       "      <td>22</td>\n",
       "      <td>5</td>\n",
       "      <td>2</td>\n",
       "      <td>2</td>\n",
       "      <td>1.090909</td>\n",
       "      <td>1.4</td>\n",
       "      <td>0.998231</td>\n",
       "      <td>40.0</td>\n",
       "      <td>0.001574</td>\n",
       "      <td>21.961072</td>\n",
       "      <td>0.533333</td>\n",
       "      <td>11.712572</td>\n",
       "      <td>1</td>\n",
       "      <td>0</td>\n",
       "    </tr>\n",
       "    <tr>\n",
       "      <th>12739</th>\n",
       "      <td>26796</td>\n",
       "      <td>2</td>\n",
       "      <td>3</td>\n",
       "      <td>2</td>\n",
       "      <td>1</td>\n",
       "      <td>0</td>\n",
       "      <td>2</td>\n",
       "      <td>1.000000</td>\n",
       "      <td>3.0</td>\n",
       "      <td>1.000000</td>\n",
       "      <td>4663.0</td>\n",
       "      <td>0.183453</td>\n",
       "      <td>2.000000</td>\n",
       "      <td>12.671196</td>\n",
       "      <td>25.342391</td>\n",
       "      <td>1</td>\n",
       "      <td>0</td>\n",
       "    </tr>\n",
       "    <tr>\n",
       "      <th>12740</th>\n",
       "      <td>26797</td>\n",
       "      <td>2</td>\n",
       "      <td>0</td>\n",
       "      <td>2</td>\n",
       "      <td>0</td>\n",
       "      <td>0</td>\n",
       "      <td>0</td>\n",
       "      <td>1.000000</td>\n",
       "      <td>1.0</td>\n",
       "      <td>1.000000</td>\n",
       "      <td>4663.0</td>\n",
       "      <td>0.183453</td>\n",
       "      <td>2.000000</td>\n",
       "      <td>12.671196</td>\n",
       "      <td>25.342391</td>\n",
       "      <td>1</td>\n",
       "      <td>0</td>\n",
       "    </tr>\n",
       "    <tr>\n",
       "      <th>12741</th>\n",
       "      <td>26798</td>\n",
       "      <td>2</td>\n",
       "      <td>1</td>\n",
       "      <td>2</td>\n",
       "      <td>1</td>\n",
       "      <td>0</td>\n",
       "      <td>0</td>\n",
       "      <td>1.000000</td>\n",
       "      <td>1.0</td>\n",
       "      <td>1.000000</td>\n",
       "      <td>4663.0</td>\n",
       "      <td>0.183453</td>\n",
       "      <td>2.000000</td>\n",
       "      <td>12.671196</td>\n",
       "      <td>25.342391</td>\n",
       "      <td>1</td>\n",
       "      <td>0</td>\n",
       "    </tr>\n",
       "    <tr>\n",
       "      <th>12742</th>\n",
       "      <td>26799</td>\n",
       "      <td>2</td>\n",
       "      <td>0</td>\n",
       "      <td>2</td>\n",
       "      <td>0</td>\n",
       "      <td>0</td>\n",
       "      <td>0</td>\n",
       "      <td>1.000000</td>\n",
       "      <td>1.0</td>\n",
       "      <td>1.000000</td>\n",
       "      <td>4663.0</td>\n",
       "      <td>0.183453</td>\n",
       "      <td>2.000000</td>\n",
       "      <td>12.671196</td>\n",
       "      <td>25.342391</td>\n",
       "      <td>1</td>\n",
       "      <td>0</td>\n",
       "    </tr>\n",
       "  </tbody>\n",
       "</table>\n",
       "<p>12743 rows × 17 columns</p>\n",
       "</div>"
      ],
      "text/plain": [
       "       user_id  c_count  w_count  c_uniq  w_uniq  c_diff  w_diff     c_div  \\\n",
       "0            2        2        0       2       0       0       0  1.000000   \n",
       "1            3        4        4       4       2       0       2  1.000000   \n",
       "2            5        2        2       2       1       0       1  1.000000   \n",
       "3            8        9       21       9       7       0      14  1.000000   \n",
       "4           12        1        0       1       0       0       0  1.000000   \n",
       "...        ...      ...      ...     ...     ...     ...     ...       ...   \n",
       "12738    26794       24        7      22       5       2       2  1.090909   \n",
       "12739    26796        2        3       2       1       0       2  1.000000   \n",
       "12740    26797        2        0       2       0       0       0  1.000000   \n",
       "12741    26798        2        1       2       1       0       0  1.000000   \n",
       "12742    26799        2        0       2       0       0       0  1.000000   \n",
       "\n",
       "       w_div  S_steps_ratio  c_freq  c_density  c_uniq*S_steps_ratio  \\\n",
       "0        1.0       1.000000  4663.0   0.183453              2.000000   \n",
       "1        2.0       0.594120   372.0   0.014635              2.376480   \n",
       "2        2.0       1.000000  4663.0   0.183453              2.000000   \n",
       "3        3.0       1.010068  1183.0   0.046542              9.090613   \n",
       "4        1.0       1.000000  1181.0   0.046463              1.000000   \n",
       "...      ...            ...     ...        ...                   ...   \n",
       "12738    1.4       0.998231    40.0   0.001574             21.961072   \n",
       "12739    3.0       1.000000  4663.0   0.183453              2.000000   \n",
       "12740    1.0       1.000000  4663.0   0.183453              2.000000   \n",
       "12741    1.0       1.000000  4663.0   0.183453              2.000000   \n",
       "12742    1.0       1.000000  4663.0   0.183453              2.000000   \n",
       "\n",
       "       c_freq[i]/c_freq[i+1]  (c_freq[i]/c_freq[i+1])*(c_uniq*S_steps_ratio)  \\\n",
       "0                  12.671196                                       25.342391   \n",
       "1                   0.946565                                        2.249492   \n",
       "2                  12.671196                                       25.342391   \n",
       "3                   9.776860                                       88.877648   \n",
       "4                   0.253270                                        0.253270   \n",
       "...                      ...                                             ...   \n",
       "12738               0.533333                                       11.712572   \n",
       "12739              12.671196                                       25.342391   \n",
       "12740              12.671196                                       25.342391   \n",
       "12741              12.671196                                       25.342391   \n",
       "12742              12.671196                                       25.342391   \n",
       "\n",
       "       end_correct  end_wrong  \n",
       "0                1          0  \n",
       "1                1          0  \n",
       "2                1          0  \n",
       "3                1          0  \n",
       "4                1          0  \n",
       "...            ...        ...  \n",
       "12738            1          0  \n",
       "12739            1          0  \n",
       "12740            1          0  \n",
       "12741            1          0  \n",
       "12742            1          0  \n",
       "\n",
       "[12743 rows x 17 columns]"
      ]
     },
     "execution_count": 47,
     "metadata": {},
     "output_type": "execute_result"
    }
   ],
   "source": [
    "first_data"
   ]
  },
  {
   "cell_type": "code",
   "execution_count": 48,
   "metadata": {},
   "outputs": [
    {
     "name": "stdout",
     "output_type": "stream",
     "text": [
      "<class 'pandas.core.frame.DataFrame'>\n",
      "Int64Index: 12743 entries, 0 to 12742\n",
      "Data columns (total 17 columns):\n",
      " #   Column                                          Non-Null Count  Dtype  \n",
      "---  ------                                          --------------  -----  \n",
      " 0   user_id                                         12743 non-null  int64  \n",
      " 1   c_count                                         12743 non-null  int64  \n",
      " 2   w_count                                         12743 non-null  int64  \n",
      " 3   c_uniq                                          12743 non-null  int64  \n",
      " 4   w_uniq                                          12743 non-null  int64  \n",
      " 5   c_diff                                          12743 non-null  int64  \n",
      " 6   w_diff                                          12743 non-null  int64  \n",
      " 7   c_div                                           12743 non-null  float64\n",
      " 8   w_div                                           12743 non-null  float64\n",
      " 9   S_steps_ratio                                   12743 non-null  float64\n",
      " 10  c_freq                                          12743 non-null  float64\n",
      " 11  c_density                                       12743 non-null  float64\n",
      " 12  c_uniq*S_steps_ratio                            12743 non-null  float64\n",
      " 13  c_freq[i]/c_freq[i+1]                           12743 non-null  float64\n",
      " 14  (c_freq[i]/c_freq[i+1])*(c_uniq*S_steps_ratio)  12743 non-null  float64\n",
      " 15  end_correct                                     12743 non-null  int64  \n",
      " 16  end_wrong                                       12743 non-null  int64  \n",
      "dtypes: float64(8), int64(9)\n",
      "memory usage: 1.7 MB\n"
     ]
    }
   ],
   "source": [
    "first_data.info()"
   ]
  }
 ],
 "metadata": {
  "kernelspec": {
   "display_name": "Python 3",
   "language": "python",
   "name": "python3"
  },
  "language_info": {
   "codemirror_mode": {
    "name": "ipython",
    "version": 3
   },
   "file_extension": ".py",
   "mimetype": "text/x-python",
   "name": "python",
   "nbconvert_exporter": "python",
   "pygments_lexer": "ipython3",
   "version": "3.7.6"
  }
 },
 "nbformat": 4,
 "nbformat_minor": 4
}
