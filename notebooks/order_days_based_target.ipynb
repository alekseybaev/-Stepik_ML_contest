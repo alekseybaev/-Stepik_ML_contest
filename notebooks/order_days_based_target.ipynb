{
 "cells": [
  {
   "cell_type": "markdown",
   "metadata": {},
   "source": [
    "# Кодирование распределения дней пользователей на курсе по соотношению значений таргета"
   ]
  },
  {
   "cell_type": "markdown",
   "metadata": {},
   "source": [
    "Возможные варианты за первые 48 часов на курсе, что соответствует 3-м календарным дням: только первый день; первый и второй дни; первый и третий дни; первый, второй и третий дни. Итого 4 возможных варианта"
   ]
  },
  {
   "cell_type": "markdown",
   "metadata": {},
   "source": [
    "Импортируем требуемые библиотеки и делаем некоторые настройки"
   ]
  },
  {
   "cell_type": "code",
   "execution_count": 1,
   "metadata": {},
   "outputs": [],
   "source": [
    "import pandas as pd\n",
    "import numpy as np"
   ]
  },
  {
   "cell_type": "code",
   "execution_count": 2,
   "metadata": {},
   "outputs": [],
   "source": [
    "import warnings\n",
    "warnings.filterwarnings('ignore')"
   ]
  },
  {
   "cell_type": "code",
   "execution_count": 3,
   "metadata": {},
   "outputs": [],
   "source": [
    "from collections import Counter"
   ]
  },
  {
   "cell_type": "markdown",
   "metadata": {},
   "source": [
    "Кодирование для данных EVENTS"
   ]
  },
  {
   "cell_type": "code",
   "execution_count": 4,
   "metadata": {},
   "outputs": [],
   "source": [
    "feature_events = pd.read_csv('DATA\\\\days_feature_events_all.csv')"
   ]
  },
  {
   "cell_type": "code",
   "execution_count": 5,
   "metadata": {},
   "outputs": [],
   "source": [
    "target_feature = pd.read_csv('DATA\\\\target_feature.csv')"
   ]
  },
  {
   "cell_type": "code",
   "execution_count": 6,
   "metadata": {},
   "outputs": [],
   "source": [
    "feature_events = feature_events.merge(target_feature, on='user_id',\n",
    "                                                      how='outer')"
   ]
  },
  {
   "cell_type": "code",
   "execution_count": 7,
   "metadata": {},
   "outputs": [],
   "source": [
    "#отбор строк, для который таргет равен 1\n",
    "is_gone_true = feature_events[feature_events.is_gone == 1]"
   ]
  },
  {
   "cell_type": "code",
   "execution_count": 8,
   "metadata": {},
   "outputs": [],
   "source": [
    "#отбор строк, для который таргет равен 0\n",
    "is_gone_false = feature_events[feature_events.is_gone == 0]"
   ]
  },
  {
   "cell_type": "code",
   "execution_count": 9,
   "metadata": {},
   "outputs": [
    {
     "data": {
      "text/plain": [
       "Counter({2.0: 574, 3.0: 99, 1.0: 713, 4.0: 538})"
      ]
     },
     "execution_count": 9,
     "metadata": {},
     "output_type": "execute_result"
    }
   ],
   "source": [
    "q_true = Counter(is_gone_true.day_chem)\n",
    "q_true#словарь, вариант - количество значений для таргета 1"
   ]
  },
  {
   "cell_type": "code",
   "execution_count": 10,
   "metadata": {},
   "outputs": [
    {
     "data": {
      "text/plain": [
       "Counter({1.0: 13512, 2.0: 2345, 4.0: 1051, 3.0: 402})"
      ]
     },
     "execution_count": 10,
     "metadata": {},
     "output_type": "execute_result"
    }
   ],
   "source": [
    "q_false = Counter(is_gone_false.day_chem)\n",
    "q_false#словарь, вариант - количество значений для таргета 0"
   ]
  },
  {
   "cell_type": "code",
   "execution_count": 11,
   "metadata": {},
   "outputs": [],
   "source": [
    "#расчет относительных частот\n",
    "q_1 = q_true.get(1) / (q_false.get(1) + q_true.get(1))\n",
    "q_2 = q_true.get(2) / (q_false.get(2) + q_true.get(2))\n",
    "q_3 = q_true.get(3) / (q_false.get(3) + q_true.get(3))\n",
    "q_4 = q_true.get(4) / (q_false.get(4) + q_true.get(4))"
   ]
  },
  {
   "cell_type": "code",
   "execution_count": 12,
   "metadata": {},
   "outputs": [
    {
     "data": {
      "text/plain": [
       "(0.05012302284710018,\n",
       " 0.19664268585131894,\n",
       " 0.19760479041916168,\n",
       " 0.33857772183763374)"
      ]
     },
     "execution_count": 12,
     "metadata": {},
     "output_type": "execute_result"
    }
   ],
   "source": [
    "q_1, q_2, q_3, q_4"
   ]
  },
  {
   "cell_type": "code",
   "execution_count": 13,
   "metadata": {},
   "outputs": [],
   "source": [
    "#заполняем новый столбец\n",
    "feature_events.loc_day[feature_events.day_chem == 1] = q_1\n",
    "feature_events.loc_day[feature_events.day_chem == 2] = q_2\n",
    "feature_events.loc_day[feature_events.day_chem == 3] = q_3\n",
    "feature_events.loc_day[feature_events.day_chem == 4] = q_4"
   ]
  },
  {
   "cell_type": "code",
   "execution_count": 14,
   "metadata": {},
   "outputs": [],
   "source": [
    "#удаляем ненужные колонки и переименование\n",
    "feature_events = feature_events.drop(['day_chem', 'is_gone'], axis=1)\n",
    "feature_events = feature_events.rename(columns={'count_day': 'events_day',\n",
    "                                                'loc_day': 'Eloc_day'})"
   ]
  },
  {
   "cell_type": "markdown",
   "metadata": {},
   "source": [
    "Кодировка для данных SUBMISSIONS (аналогично)"
   ]
  },
  {
   "cell_type": "code",
   "execution_count": 15,
   "metadata": {},
   "outputs": [],
   "source": [
    "feature_submissions = pd.read_csv('DATA\\\\days_feature_submissions_all.csv')"
   ]
  },
  {
   "cell_type": "code",
   "execution_count": 16,
   "metadata": {},
   "outputs": [],
   "source": [
    "feature_submissions = feature_submissions.merge(target_feature,\n",
    "                                                on='user_id',\n",
    "                                                how='left')"
   ]
  },
  {
   "cell_type": "code",
   "execution_count": 17,
   "metadata": {},
   "outputs": [],
   "source": [
    "is_gone_true = feature_submissions[feature_submissions.is_gone == 1]"
   ]
  },
  {
   "cell_type": "code",
   "execution_count": 18,
   "metadata": {},
   "outputs": [],
   "source": [
    "is_gone_false = feature_submissions[feature_submissions.is_gone == 0]"
   ]
  },
  {
   "cell_type": "code",
   "execution_count": 19,
   "metadata": {},
   "outputs": [
    {
     "data": {
      "text/plain": [
       "Counter({2.0: 627, 1.0: 821, 4.0: 370, 3.0: 106})"
      ]
     },
     "execution_count": 19,
     "metadata": {},
     "output_type": "execute_result"
    }
   ],
   "source": [
    "w_true = Counter(is_gone_true.day_chem)\n",
    "w_true"
   ]
  },
  {
   "cell_type": "code",
   "execution_count": 20,
   "metadata": {},
   "outputs": [
    {
     "data": {
      "text/plain": [
       "Counter({1.0: 6076, 2.0: 1336, 3.0: 215, 4.0: 389})"
      ]
     },
     "execution_count": 20,
     "metadata": {},
     "output_type": "execute_result"
    }
   ],
   "source": [
    "w_false = Counter(is_gone_false.day_chem)\n",
    "w_false"
   ]
  },
  {
   "cell_type": "code",
   "execution_count": 21,
   "metadata": {},
   "outputs": [],
   "source": [
    "w_1 = w_true.get(1) / (w_false.get(1) + w_true.get(1))\n",
    "w_2 = w_true.get(2) / (w_false.get(2) + w_true.get(2))\n",
    "w_3 = w_true.get(3) / (w_false.get(3) + w_true.get(3))\n",
    "w_4 = w_true.get(4) / (w_false.get(4) + w_true.get(4))"
   ]
  },
  {
   "cell_type": "code",
   "execution_count": 22,
   "metadata": {},
   "outputs": [
    {
     "data": {
      "text/plain": [
       "(0.11903726257793243,\n",
       " 0.31940906775343864,\n",
       " 0.3302180685358255,\n",
       " 0.4874835309617918)"
      ]
     },
     "execution_count": 22,
     "metadata": {},
     "output_type": "execute_result"
    }
   ],
   "source": [
    "w_1, w_2, w_3, w_4"
   ]
  },
  {
   "cell_type": "code",
   "execution_count": 23,
   "metadata": {},
   "outputs": [],
   "source": [
    "feature_submissions.loc_day[feature_submissions.day_chem == 1] = w_1\n",
    "feature_submissions.loc_day[feature_submissions.day_chem == 2] = w_2\n",
    "feature_submissions.loc_day[feature_submissions.day_chem == 3] = w_3\n",
    "feature_submissions.loc_day[feature_submissions.day_chem == 4] = w_4"
   ]
  },
  {
   "cell_type": "code",
   "execution_count": 24,
   "metadata": {},
   "outputs": [],
   "source": [
    "feature_submissions = feature_submissions.drop(['day_chem', 'is_gone'], axis=1)\n",
    "feature_submissions = feature_submissions.rename(columns={'count_day': 'submissions_day',\n",
    "                                                          'loc_day': 'Sloc_day'})"
   ]
  },
  {
   "cell_type": "markdown",
   "metadata": {},
   "source": [
    "Соединим EVENTS и SUBMISSIONS"
   ]
  },
  {
   "cell_type": "code",
   "execution_count": 25,
   "metadata": {},
   "outputs": [],
   "source": [
    "feature_events = feature_events.merge(feature_submissions,\n",
    "                                      on='user_id',\n",
    "                                      how='left')"
   ]
  },
  {
   "cell_type": "code",
   "execution_count": 26,
   "metadata": {},
   "outputs": [],
   "source": [
    "feature_events = feature_events.fillna(0)"
   ]
  },
  {
   "cell_type": "markdown",
   "metadata": {},
   "source": [
    "Схлопнем 2 столбца"
   ]
  },
  {
   "cell_type": "code",
   "execution_count": 27,
   "metadata": {},
   "outputs": [],
   "source": [
    "feature_events['loc_day'] = feature_events.Eloc_day + feature_events.Sloc_day"
   ]
  },
  {
   "cell_type": "code",
   "execution_count": 30,
   "metadata": {},
   "outputs": [],
   "source": [
    "feature_events = feature_events.drop(['Eloc_day', 'Sloc_day'], axis=1)"
   ]
  },
  {
   "cell_type": "markdown",
   "metadata": {},
   "source": [
    "Сохраним в файл"
   ]
  },
  {
   "cell_type": "code",
   "execution_count": 31,
   "metadata": {},
   "outputs": [],
   "source": [
    "feature_events.to_csv('DATA\\\\days_feature_target.csv', index=False)"
   ]
  },
  {
   "cell_type": "code",
   "execution_count": 32,
   "metadata": {},
   "outputs": [
    {
     "data": {
      "text/html": [
       "<div>\n",
       "<style scoped>\n",
       "    .dataframe tbody tr th:only-of-type {\n",
       "        vertical-align: middle;\n",
       "    }\n",
       "\n",
       "    .dataframe tbody tr th {\n",
       "        vertical-align: top;\n",
       "    }\n",
       "\n",
       "    .dataframe thead th {\n",
       "        text-align: right;\n",
       "    }\n",
       "</style>\n",
       "<table border=\"1\" class=\"dataframe\">\n",
       "  <thead>\n",
       "    <tr style=\"text-align: right;\">\n",
       "      <th></th>\n",
       "      <th>user_id</th>\n",
       "      <th>events_day</th>\n",
       "      <th>submissions_day</th>\n",
       "      <th>loc_day</th>\n",
       "    </tr>\n",
       "  </thead>\n",
       "  <tbody>\n",
       "    <tr>\n",
       "      <th>0</th>\n",
       "      <td>1</td>\n",
       "      <td>1.0</td>\n",
       "      <td>0.0</td>\n",
       "      <td>0.050123</td>\n",
       "    </tr>\n",
       "    <tr>\n",
       "      <th>1</th>\n",
       "      <td>2</td>\n",
       "      <td>1.0</td>\n",
       "      <td>1.0</td>\n",
       "      <td>0.169160</td>\n",
       "    </tr>\n",
       "    <tr>\n",
       "      <th>2</th>\n",
       "      <td>3</td>\n",
       "      <td>1.0</td>\n",
       "      <td>1.0</td>\n",
       "      <td>0.169160</td>\n",
       "    </tr>\n",
       "    <tr>\n",
       "      <th>3</th>\n",
       "      <td>4</td>\n",
       "      <td>1.0</td>\n",
       "      <td>0.0</td>\n",
       "      <td>0.050123</td>\n",
       "    </tr>\n",
       "    <tr>\n",
       "      <th>4</th>\n",
       "      <td>5</td>\n",
       "      <td>1.0</td>\n",
       "      <td>1.0</td>\n",
       "      <td>0.169160</td>\n",
       "    </tr>\n",
       "    <tr>\n",
       "      <th>...</th>\n",
       "      <td>...</td>\n",
       "      <td>...</td>\n",
       "      <td>...</td>\n",
       "      <td>...</td>\n",
       "    </tr>\n",
       "    <tr>\n",
       "      <th>25413</th>\n",
       "      <td>26796</td>\n",
       "      <td>1.0</td>\n",
       "      <td>1.0</td>\n",
       "      <td>0.169160</td>\n",
       "    </tr>\n",
       "    <tr>\n",
       "      <th>25414</th>\n",
       "      <td>26797</td>\n",
       "      <td>1.0</td>\n",
       "      <td>1.0</td>\n",
       "      <td>0.169160</td>\n",
       "    </tr>\n",
       "    <tr>\n",
       "      <th>25415</th>\n",
       "      <td>26798</td>\n",
       "      <td>1.0</td>\n",
       "      <td>1.0</td>\n",
       "      <td>0.169160</td>\n",
       "    </tr>\n",
       "    <tr>\n",
       "      <th>25416</th>\n",
       "      <td>26799</td>\n",
       "      <td>2.0</td>\n",
       "      <td>1.0</td>\n",
       "      <td>0.315680</td>\n",
       "    </tr>\n",
       "    <tr>\n",
       "      <th>25417</th>\n",
       "      <td>26800</td>\n",
       "      <td>1.0</td>\n",
       "      <td>0.0</td>\n",
       "      <td>0.050123</td>\n",
       "    </tr>\n",
       "  </tbody>\n",
       "</table>\n",
       "<p>25418 rows × 4 columns</p>\n",
       "</div>"
      ],
      "text/plain": [
       "       user_id  events_day  submissions_day   loc_day\n",
       "0            1         1.0              0.0  0.050123\n",
       "1            2         1.0              1.0  0.169160\n",
       "2            3         1.0              1.0  0.169160\n",
       "3            4         1.0              0.0  0.050123\n",
       "4            5         1.0              1.0  0.169160\n",
       "...        ...         ...              ...       ...\n",
       "25413    26796         1.0              1.0  0.169160\n",
       "25414    26797         1.0              1.0  0.169160\n",
       "25415    26798         1.0              1.0  0.169160\n",
       "25416    26799         2.0              1.0  0.315680\n",
       "25417    26800         1.0              0.0  0.050123\n",
       "\n",
       "[25418 rows x 4 columns]"
      ]
     },
     "execution_count": 32,
     "metadata": {},
     "output_type": "execute_result"
    }
   ],
   "source": [
    "feature_events"
   ]
  },
  {
   "cell_type": "code",
   "execution_count": 33,
   "metadata": {},
   "outputs": [
    {
     "name": "stdout",
     "output_type": "stream",
     "text": [
      "<class 'pandas.core.frame.DataFrame'>\n",
      "Int64Index: 25418 entries, 0 to 25417\n",
      "Data columns (total 4 columns):\n",
      " #   Column           Non-Null Count  Dtype  \n",
      "---  ------           --------------  -----  \n",
      " 0   user_id          25418 non-null  int64  \n",
      " 1   events_day       25418 non-null  float64\n",
      " 2   submissions_day  25418 non-null  float64\n",
      " 3   loc_day          25418 non-null  float64\n",
      "dtypes: float64(3), int64(1)\n",
      "memory usage: 992.9 KB\n"
     ]
    }
   ],
   "source": [
    "feature_events.info()"
   ]
  }
 ],
 "metadata": {
  "kernelspec": {
   "display_name": "Python 3",
   "language": "python",
   "name": "python3"
  },
  "language_info": {
   "codemirror_mode": {
    "name": "ipython",
    "version": 3
   },
   "file_extension": ".py",
   "mimetype": "text/x-python",
   "name": "python",
   "nbconvert_exporter": "python",
   "pygments_lexer": "ipython3",
   "version": "3.7.6"
  }
 },
 "nbformat": 4,
 "nbformat_minor": 4
}
