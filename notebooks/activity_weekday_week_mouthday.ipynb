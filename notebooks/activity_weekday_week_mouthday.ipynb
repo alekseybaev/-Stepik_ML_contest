{
 "cells": [
  {
   "cell_type": "markdown",
   "metadata": {},
   "source": [
    "# Определение активности для дня недели, недели года, дня месяца на курсе"
   ]
  },
  {
   "cell_type": "markdown",
   "metadata": {},
   "source": [
    "Импортируем библиотеки и делаем некоторые настройки"
   ]
  },
  {
   "cell_type": "code",
   "execution_count": 1,
   "metadata": {},
   "outputs": [],
   "source": [
    "import pandas as pd\n",
    "import numpy as np"
   ]
  },
  {
   "cell_type": "code",
   "execution_count": 2,
   "metadata": {},
   "outputs": [],
   "source": [
    "#sns.set(rc={'figure.figsize': (20, 10)})"
   ]
  },
  {
   "cell_type": "code",
   "execution_count": 3,
   "metadata": {},
   "outputs": [],
   "source": [
    "import datetime, calendar"
   ]
  },
  {
   "cell_type": "code",
   "execution_count": 4,
   "metadata": {},
   "outputs": [],
   "source": [
    "import warnings\n",
    "warnings.filterwarnings('ignore')"
   ]
  },
  {
   "cell_type": "markdown",
   "metadata": {},
   "source": [
    "Загружаем данные о действиях и их статусе. Объединяем все в одну таблицу"
   ]
  },
  {
   "cell_type": "code",
   "execution_count": 5,
   "metadata": {},
   "outputs": [],
   "source": [
    "events = pd.read_csv('DATA\\\\events_all_two_days.zip', compression='zip')"
   ]
  },
  {
   "cell_type": "code",
   "execution_count": 6,
   "metadata": {},
   "outputs": [],
   "source": [
    "submissions = pd.read_csv('DATA\\\\submissions_all_two_days.zip', compression='zip')"
   ]
  },
  {
   "cell_type": "code",
   "execution_count": 7,
   "metadata": {},
   "outputs": [],
   "source": [
    "events = events.rename(columns={'action': 'action_submission_status'})\n",
    "submissions = submissions.rename(columns={'submission_status': 'action_submission_status'})"
   ]
  },
  {
   "cell_type": "code",
   "execution_count": 8,
   "metadata": {},
   "outputs": [],
   "source": [
    "data = pd.concat([events, submissions])"
   ]
  },
  {
   "cell_type": "code",
   "execution_count": 9,
   "metadata": {},
   "outputs": [],
   "source": [
    "del events\n",
    "del submissions"
   ]
  },
  {
   "cell_type": "code",
   "execution_count": 10,
   "metadata": {},
   "outputs": [],
   "source": [
    "data.sort_values(by=['user_id', 'timestamp'], axis=0, inplace=True)"
   ]
  },
  {
   "cell_type": "markdown",
   "metadata": {},
   "source": [
    "Для сбалансированности отберем данные только за три полных года 2016, 2017, 2018"
   ]
  },
  {
   "cell_type": "code",
   "execution_count": 11,
   "metadata": {},
   "outputs": [],
   "source": [
    "d_1 = datetime.datetime(2016, 1, 1, 0, 0, 0)\n",
    "d_2 = datetime.datetime(2019, 1, 1, 0, 0, 0)\n",
    "first_timestamp = calendar.timegm(d_1.timetuple())\n",
    "second_timestamp = calendar.timegm(d_2.timetuple())"
   ]
  },
  {
   "cell_type": "code",
   "execution_count": 12,
   "metadata": {},
   "outputs": [],
   "source": [
    "data = data[(data.timestamp >= first_timestamp) & \\\n",
    "            (data.timestamp < second_timestamp)]"
   ]
  },
  {
   "cell_type": "code",
   "execution_count": 13,
   "metadata": {},
   "outputs": [
    {
     "name": "stdout",
     "output_type": "stream",
     "text": [
      "2016-01-01 // 2018-12-31\n"
     ]
    }
   ],
   "source": [
    "print(data.date.min(),'//', data.date.max())"
   ]
  },
  {
   "cell_type": "markdown",
   "metadata": {},
   "source": [
    "Определим активности пользователей на курсе"
   ]
  },
  {
   "cell_type": "markdown",
   "metadata": {},
   "source": [
    "koef_weekday - активность для дня недели,\n",
    "koef_week    - активность номера недели,\n",
    "koef_day     - активность дня месяца"
   ]
  },
  {
   "cell_type": "code",
   "execution_count": 14,
   "metadata": {},
   "outputs": [],
   "source": [
    "# коэффициенты-признаки\n",
    "koef_weekday = (data.groupby('weekday').user_id.nunique()/ \\\n",
    "                data.groupby('weekday').user_id.nunique().sum())\\\n",
    "                .to_frame().reset_index() \\\n",
    "                .rename(columns={'user_id': 'koef_wd'})\n",
    "koef_week = (data.groupby('week').user_id.nunique()/ \\\n",
    "             data.groupby('week').user_id.nunique().sum())\\\n",
    "             .to_frame().reset_index() \\\n",
    "             .rename(columns={'user_id': 'koef_wk'})\n",
    "koef_day = (data.groupby('day').user_id.nunique()/ \\\n",
    "            data.groupby('day').user_id.nunique().sum())\\\n",
    "            .to_frame().reset_index() \\\n",
    "            .rename(columns={'user_id': 'koef_dm'})\n",
    "# поправки из-за непредставительности некоторых данных\n",
    "koef_week.koef_wk[51] = (koef_week.koef_wk[51])*21/20\n",
    "koef_week.koef_wk[52] = (koef_week.koef_wk[52])*21/3\n",
    "koef_day.koef_dm[28] = (koef_day.koef_dm[28])*36/34\n",
    "koef_day.koef_dm[29] = (koef_day.koef_dm[29])*36/33\n",
    "koef_day.koef_dm[30] = (koef_day.koef_dm[30])*36/21\n",
    "#переномируем некоторые после изменений\n",
    "koef_week.koef_wk = koef_week.koef_wk / koef_week.koef_wk.sum()\n",
    "koef_day.koef_dm = koef_day.koef_dm / koef_day.koef_dm.sum()"
   ]
  },
  {
   "cell_type": "markdown",
   "metadata": {},
   "source": [
    "Сохраним результаты в файл:"
   ]
  },
  {
   "cell_type": "code",
   "execution_count": 15,
   "metadata": {},
   "outputs": [],
   "source": [
    "koef_weekday.to_csv('DATA\\\\koef_weekday.csv', index=False)\n",
    "koef_week.to_csv('DATA\\\\koef_week.csv', index=False)\n",
    "koef_day.to_csv('DATA\\\\koef_day.csv', index=False)"
   ]
  }
 ],
 "metadata": {
  "kernelspec": {
   "display_name": "Python 3",
   "language": "python",
   "name": "python3"
  },
  "language_info": {
   "codemirror_mode": {
    "name": "ipython",
    "version": 3
   },
   "file_extension": ".py",
   "mimetype": "text/x-python",
   "name": "python",
   "nbconvert_exporter": "python",
   "pygments_lexer": "ipython3",
   "version": "3.7.6"
  }
 },
 "nbformat": 4,
 "nbformat_minor": 4
}
